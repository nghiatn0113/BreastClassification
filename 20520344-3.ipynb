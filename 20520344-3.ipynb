{
 "cells": [
  {
   "cell_type": "code",
   "execution_count": 31,
   "metadata": {
    "id": "usUB39VgJayN"
   },
   "outputs": [],
   "source": [
    "import numpy as np\n",
    "import pandas as pd\n",
    "import plotly.graph_objects as go\n",
    "import plotly.io as pio\n",
    "import plotly.express as px"
   ]
  },
  {
   "cell_type": "markdown",
   "metadata": {
    "id": "SJUbOoyvihzR"
   },
   "source": [
    "#Load dữ liệu"
   ]
  },
  {
   "cell_type": "code",
   "execution_count": 32,
   "metadata": {
    "id": "zlHV9S3-G6Mr"
   },
   "outputs": [],
   "source": [
    "from sklearn.datasets import load_iris\n",
    "iris=load_iris()"
   ]
  },
  {
   "cell_type": "code",
   "execution_count": 33,
   "metadata": {
    "colab": {
     "base_uri": "https://localhost:8080/"
    },
    "id": "LgfX4jt0KXK9",
    "outputId": "4b2a5a46-e043-4c04-958a-f4137fe873e0"
   },
   "outputs": [
    {
     "data": {
      "text/plain": [
       "{'DESCR': '.. _iris_dataset:\\n\\nIris plants dataset\\n--------------------\\n\\n**Data Set Characteristics:**\\n\\n    :Number of Instances: 150 (50 in each of three classes)\\n    :Number of Attributes: 4 numeric, predictive attributes and the class\\n    :Attribute Information:\\n        - sepal length in cm\\n        - sepal width in cm\\n        - petal length in cm\\n        - petal width in cm\\n        - class:\\n                - Iris-Setosa\\n                - Iris-Versicolour\\n                - Iris-Virginica\\n                \\n    :Summary Statistics:\\n\\n    ============== ==== ==== ======= ===== ====================\\n                    Min  Max   Mean    SD   Class Correlation\\n    ============== ==== ==== ======= ===== ====================\\n    sepal length:   4.3  7.9   5.84   0.83    0.7826\\n    sepal width:    2.0  4.4   3.05   0.43   -0.4194\\n    petal length:   1.0  6.9   3.76   1.76    0.9490  (high!)\\n    petal width:    0.1  2.5   1.20   0.76    0.9565  (high!)\\n    ============== ==== ==== ======= ===== ====================\\n\\n    :Missing Attribute Values: None\\n    :Class Distribution: 33.3% for each of 3 classes.\\n    :Creator: R.A. Fisher\\n    :Donor: Michael Marshall (MARSHALL%PLU@io.arc.nasa.gov)\\n    :Date: July, 1988\\n\\nThe famous Iris database, first used by Sir R.A. Fisher. The dataset is taken\\nfrom Fisher\\'s paper. Note that it\\'s the same as in R, but not as in the UCI\\nMachine Learning Repository, which has two wrong data points.\\n\\nThis is perhaps the best known database to be found in the\\npattern recognition literature.  Fisher\\'s paper is a classic in the field and\\nis referenced frequently to this day.  (See Duda & Hart, for example.)  The\\ndata set contains 3 classes of 50 instances each, where each class refers to a\\ntype of iris plant.  One class is linearly separable from the other 2; the\\nlatter are NOT linearly separable from each other.\\n\\n.. topic:: References\\n\\n   - Fisher, R.A. \"The use of multiple measurements in taxonomic problems\"\\n     Annual Eugenics, 7, Part II, 179-188 (1936); also in \"Contributions to\\n     Mathematical Statistics\" (John Wiley, NY, 1950).\\n   - Duda, R.O., & Hart, P.E. (1973) Pattern Classification and Scene Analysis.\\n     (Q327.D83) John Wiley & Sons.  ISBN 0-471-22361-1.  See page 218.\\n   - Dasarathy, B.V. (1980) \"Nosing Around the Neighborhood: A New System\\n     Structure and Classification Rule for Recognition in Partially Exposed\\n     Environments\".  IEEE Transactions on Pattern Analysis and Machine\\n     Intelligence, Vol. PAMI-2, No. 1, 67-71.\\n   - Gates, G.W. (1972) \"The Reduced Nearest Neighbor Rule\".  IEEE Transactions\\n     on Information Theory, May 1972, 431-433.\\n   - See also: 1988 MLC Proceedings, 54-64.  Cheeseman et al\"s AUTOCLASS II\\n     conceptual clustering system finds 3 classes in the data.\\n   - Many, many more ...',\n",
       " 'data': array([[5.1, 3.5, 1.4, 0.2],\n",
       "        [4.9, 3. , 1.4, 0.2],\n",
       "        [4.7, 3.2, 1.3, 0.2],\n",
       "        [4.6, 3.1, 1.5, 0.2],\n",
       "        [5. , 3.6, 1.4, 0.2],\n",
       "        [5.4, 3.9, 1.7, 0.4],\n",
       "        [4.6, 3.4, 1.4, 0.3],\n",
       "        [5. , 3.4, 1.5, 0.2],\n",
       "        [4.4, 2.9, 1.4, 0.2],\n",
       "        [4.9, 3.1, 1.5, 0.1],\n",
       "        [5.4, 3.7, 1.5, 0.2],\n",
       "        [4.8, 3.4, 1.6, 0.2],\n",
       "        [4.8, 3. , 1.4, 0.1],\n",
       "        [4.3, 3. , 1.1, 0.1],\n",
       "        [5.8, 4. , 1.2, 0.2],\n",
       "        [5.7, 4.4, 1.5, 0.4],\n",
       "        [5.4, 3.9, 1.3, 0.4],\n",
       "        [5.1, 3.5, 1.4, 0.3],\n",
       "        [5.7, 3.8, 1.7, 0.3],\n",
       "        [5.1, 3.8, 1.5, 0.3],\n",
       "        [5.4, 3.4, 1.7, 0.2],\n",
       "        [5.1, 3.7, 1.5, 0.4],\n",
       "        [4.6, 3.6, 1. , 0.2],\n",
       "        [5.1, 3.3, 1.7, 0.5],\n",
       "        [4.8, 3.4, 1.9, 0.2],\n",
       "        [5. , 3. , 1.6, 0.2],\n",
       "        [5. , 3.4, 1.6, 0.4],\n",
       "        [5.2, 3.5, 1.5, 0.2],\n",
       "        [5.2, 3.4, 1.4, 0.2],\n",
       "        [4.7, 3.2, 1.6, 0.2],\n",
       "        [4.8, 3.1, 1.6, 0.2],\n",
       "        [5.4, 3.4, 1.5, 0.4],\n",
       "        [5.2, 4.1, 1.5, 0.1],\n",
       "        [5.5, 4.2, 1.4, 0.2],\n",
       "        [4.9, 3.1, 1.5, 0.2],\n",
       "        [5. , 3.2, 1.2, 0.2],\n",
       "        [5.5, 3.5, 1.3, 0.2],\n",
       "        [4.9, 3.6, 1.4, 0.1],\n",
       "        [4.4, 3. , 1.3, 0.2],\n",
       "        [5.1, 3.4, 1.5, 0.2],\n",
       "        [5. , 3.5, 1.3, 0.3],\n",
       "        [4.5, 2.3, 1.3, 0.3],\n",
       "        [4.4, 3.2, 1.3, 0.2],\n",
       "        [5. , 3.5, 1.6, 0.6],\n",
       "        [5.1, 3.8, 1.9, 0.4],\n",
       "        [4.8, 3. , 1.4, 0.3],\n",
       "        [5.1, 3.8, 1.6, 0.2],\n",
       "        [4.6, 3.2, 1.4, 0.2],\n",
       "        [5.3, 3.7, 1.5, 0.2],\n",
       "        [5. , 3.3, 1.4, 0.2],\n",
       "        [7. , 3.2, 4.7, 1.4],\n",
       "        [6.4, 3.2, 4.5, 1.5],\n",
       "        [6.9, 3.1, 4.9, 1.5],\n",
       "        [5.5, 2.3, 4. , 1.3],\n",
       "        [6.5, 2.8, 4.6, 1.5],\n",
       "        [5.7, 2.8, 4.5, 1.3],\n",
       "        [6.3, 3.3, 4.7, 1.6],\n",
       "        [4.9, 2.4, 3.3, 1. ],\n",
       "        [6.6, 2.9, 4.6, 1.3],\n",
       "        [5.2, 2.7, 3.9, 1.4],\n",
       "        [5. , 2. , 3.5, 1. ],\n",
       "        [5.9, 3. , 4.2, 1.5],\n",
       "        [6. , 2.2, 4. , 1. ],\n",
       "        [6.1, 2.9, 4.7, 1.4],\n",
       "        [5.6, 2.9, 3.6, 1.3],\n",
       "        [6.7, 3.1, 4.4, 1.4],\n",
       "        [5.6, 3. , 4.5, 1.5],\n",
       "        [5.8, 2.7, 4.1, 1. ],\n",
       "        [6.2, 2.2, 4.5, 1.5],\n",
       "        [5.6, 2.5, 3.9, 1.1],\n",
       "        [5.9, 3.2, 4.8, 1.8],\n",
       "        [6.1, 2.8, 4. , 1.3],\n",
       "        [6.3, 2.5, 4.9, 1.5],\n",
       "        [6.1, 2.8, 4.7, 1.2],\n",
       "        [6.4, 2.9, 4.3, 1.3],\n",
       "        [6.6, 3. , 4.4, 1.4],\n",
       "        [6.8, 2.8, 4.8, 1.4],\n",
       "        [6.7, 3. , 5. , 1.7],\n",
       "        [6. , 2.9, 4.5, 1.5],\n",
       "        [5.7, 2.6, 3.5, 1. ],\n",
       "        [5.5, 2.4, 3.8, 1.1],\n",
       "        [5.5, 2.4, 3.7, 1. ],\n",
       "        [5.8, 2.7, 3.9, 1.2],\n",
       "        [6. , 2.7, 5.1, 1.6],\n",
       "        [5.4, 3. , 4.5, 1.5],\n",
       "        [6. , 3.4, 4.5, 1.6],\n",
       "        [6.7, 3.1, 4.7, 1.5],\n",
       "        [6.3, 2.3, 4.4, 1.3],\n",
       "        [5.6, 3. , 4.1, 1.3],\n",
       "        [5.5, 2.5, 4. , 1.3],\n",
       "        [5.5, 2.6, 4.4, 1.2],\n",
       "        [6.1, 3. , 4.6, 1.4],\n",
       "        [5.8, 2.6, 4. , 1.2],\n",
       "        [5. , 2.3, 3.3, 1. ],\n",
       "        [5.6, 2.7, 4.2, 1.3],\n",
       "        [5.7, 3. , 4.2, 1.2],\n",
       "        [5.7, 2.9, 4.2, 1.3],\n",
       "        [6.2, 2.9, 4.3, 1.3],\n",
       "        [5.1, 2.5, 3. , 1.1],\n",
       "        [5.7, 2.8, 4.1, 1.3],\n",
       "        [6.3, 3.3, 6. , 2.5],\n",
       "        [5.8, 2.7, 5.1, 1.9],\n",
       "        [7.1, 3. , 5.9, 2.1],\n",
       "        [6.3, 2.9, 5.6, 1.8],\n",
       "        [6.5, 3. , 5.8, 2.2],\n",
       "        [7.6, 3. , 6.6, 2.1],\n",
       "        [4.9, 2.5, 4.5, 1.7],\n",
       "        [7.3, 2.9, 6.3, 1.8],\n",
       "        [6.7, 2.5, 5.8, 1.8],\n",
       "        [7.2, 3.6, 6.1, 2.5],\n",
       "        [6.5, 3.2, 5.1, 2. ],\n",
       "        [6.4, 2.7, 5.3, 1.9],\n",
       "        [6.8, 3. , 5.5, 2.1],\n",
       "        [5.7, 2.5, 5. , 2. ],\n",
       "        [5.8, 2.8, 5.1, 2.4],\n",
       "        [6.4, 3.2, 5.3, 2.3],\n",
       "        [6.5, 3. , 5.5, 1.8],\n",
       "        [7.7, 3.8, 6.7, 2.2],\n",
       "        [7.7, 2.6, 6.9, 2.3],\n",
       "        [6. , 2.2, 5. , 1.5],\n",
       "        [6.9, 3.2, 5.7, 2.3],\n",
       "        [5.6, 2.8, 4.9, 2. ],\n",
       "        [7.7, 2.8, 6.7, 2. ],\n",
       "        [6.3, 2.7, 4.9, 1.8],\n",
       "        [6.7, 3.3, 5.7, 2.1],\n",
       "        [7.2, 3.2, 6. , 1.8],\n",
       "        [6.2, 2.8, 4.8, 1.8],\n",
       "        [6.1, 3. , 4.9, 1.8],\n",
       "        [6.4, 2.8, 5.6, 2.1],\n",
       "        [7.2, 3. , 5.8, 1.6],\n",
       "        [7.4, 2.8, 6.1, 1.9],\n",
       "        [7.9, 3.8, 6.4, 2. ],\n",
       "        [6.4, 2.8, 5.6, 2.2],\n",
       "        [6.3, 2.8, 5.1, 1.5],\n",
       "        [6.1, 2.6, 5.6, 1.4],\n",
       "        [7.7, 3. , 6.1, 2.3],\n",
       "        [6.3, 3.4, 5.6, 2.4],\n",
       "        [6.4, 3.1, 5.5, 1.8],\n",
       "        [6. , 3. , 4.8, 1.8],\n",
       "        [6.9, 3.1, 5.4, 2.1],\n",
       "        [6.7, 3.1, 5.6, 2.4],\n",
       "        [6.9, 3.1, 5.1, 2.3],\n",
       "        [5.8, 2.7, 5.1, 1.9],\n",
       "        [6.8, 3.2, 5.9, 2.3],\n",
       "        [6.7, 3.3, 5.7, 2.5],\n",
       "        [6.7, 3. , 5.2, 2.3],\n",
       "        [6.3, 2.5, 5. , 1.9],\n",
       "        [6.5, 3. , 5.2, 2. ],\n",
       "        [6.2, 3.4, 5.4, 2.3],\n",
       "        [5.9, 3. , 5.1, 1.8]]),\n",
       " 'data_module': 'sklearn.datasets.data',\n",
       " 'feature_names': ['sepal length (cm)',\n",
       "  'sepal width (cm)',\n",
       "  'petal length (cm)',\n",
       "  'petal width (cm)'],\n",
       " 'filename': 'iris.csv',\n",
       " 'frame': None,\n",
       " 'target': array([0, 0, 0, 0, 0, 0, 0, 0, 0, 0, 0, 0, 0, 0, 0, 0, 0, 0, 0, 0, 0, 0,\n",
       "        0, 0, 0, 0, 0, 0, 0, 0, 0, 0, 0, 0, 0, 0, 0, 0, 0, 0, 0, 0, 0, 0,\n",
       "        0, 0, 0, 0, 0, 0, 1, 1, 1, 1, 1, 1, 1, 1, 1, 1, 1, 1, 1, 1, 1, 1,\n",
       "        1, 1, 1, 1, 1, 1, 1, 1, 1, 1, 1, 1, 1, 1, 1, 1, 1, 1, 1, 1, 1, 1,\n",
       "        1, 1, 1, 1, 1, 1, 1, 1, 1, 1, 1, 1, 2, 2, 2, 2, 2, 2, 2, 2, 2, 2,\n",
       "        2, 2, 2, 2, 2, 2, 2, 2, 2, 2, 2, 2, 2, 2, 2, 2, 2, 2, 2, 2, 2, 2,\n",
       "        2, 2, 2, 2, 2, 2, 2, 2, 2, 2, 2, 2, 2, 2, 2, 2, 2, 2]),\n",
       " 'target_names': array(['setosa', 'versicolor', 'virginica'], dtype='<U10')}"
      ]
     },
     "execution_count": 33,
     "metadata": {},
     "output_type": "execute_result"
    }
   ],
   "source": [
    "iris"
   ]
  },
  {
   "cell_type": "markdown",
   "metadata": {
    "id": "n8QFTId9Wy8t"
   },
   "source": [
    "Các label được encode như sau:\n",
    "\n",
    "• 0: Setosa\n",
    "\n",
    "• 1: Versicolour\n",
    "\n",
    "• 2: Virginica"
   ]
  },
  {
   "cell_type": "code",
   "execution_count": 34,
   "metadata": {
    "id": "vHt_qp3qHFq4"
   },
   "outputs": [],
   "source": [
    "X=iris.data[:,:2]\n",
    "y=iris.target"
   ]
  },
  {
   "cell_type": "code",
   "execution_count": 35,
   "metadata": {
    "colab": {
     "base_uri": "https://localhost:8080/"
    },
    "id": "HjEvdYMZH1H1",
    "outputId": "8206458d-1e5e-468f-94f4-127e7fdfc172"
   },
   "outputs": [
    {
     "data": {
      "text/plain": [
       "(150, 2)"
      ]
     },
     "execution_count": 35,
     "metadata": {},
     "output_type": "execute_result"
    }
   ],
   "source": [
    "X.shape"
   ]
  },
  {
   "cell_type": "code",
   "execution_count": 36,
   "metadata": {
    "colab": {
     "base_uri": "https://localhost:8080/"
    },
    "id": "P-frmGJlH2Cr",
    "outputId": "d185140a-bb8a-42f2-9c5c-a2e6f705a1f5"
   },
   "outputs": [
    {
     "data": {
      "text/plain": [
       "(150,)"
      ]
     },
     "execution_count": 36,
     "metadata": {},
     "output_type": "execute_result"
    }
   ],
   "source": [
    "y.shape"
   ]
  },
  {
   "cell_type": "markdown",
   "metadata": {
    "id": "SUYa2Ylyins7"
   },
   "source": [
    "#Biểu đồ phân tích dữ liệu"
   ]
  },
  {
   "cell_type": "code",
   "execution_count": 37,
   "metadata": {
    "colab": {
     "base_uri": "https://localhost:8080/",
     "height": 542
    },
    "id": "O-Bz0iijKRLw",
    "outputId": "f1b3fc90-cd6a-4a66-d2ba-ec14b94fb983"
   },
   "outputs": [
    {
     "data": {
      "text/html": [
       "<html>\n",
       "<head><meta charset=\"utf-8\" /></head>\n",
       "<body>\n",
       "    <div>            <script src=\"https://cdnjs.cloudflare.com/ajax/libs/mathjax/2.7.5/MathJax.js?config=TeX-AMS-MML_SVG\"></script><script type=\"text/javascript\">if (window.MathJax) {MathJax.Hub.Config({SVG: {font: \"STIX-Web\"}});}</script>                <script type=\"text/javascript\">window.PlotlyConfig = {MathJaxConfig: 'local'};</script>\n",
       "        <script src=\"https://cdn.plot.ly/plotly-2.8.3.min.js\"></script>                <div id=\"3fe9d8f1-c744-4631-8d05-f3163f2baadc\" class=\"plotly-graph-div\" style=\"height:525px; width:100%;\"></div>            <script type=\"text/javascript\">                                    window.PLOTLYENV=window.PLOTLYENV || {};                                    if (document.getElementById(\"3fe9d8f1-c744-4631-8d05-f3163f2baadc\")) {                    Plotly.newPlot(                        \"3fe9d8f1-c744-4631-8d05-f3163f2baadc\",                        [{\"domain\":{\"x\":[0.0,1.0],\"y\":[0.0,1.0]},\"hovertemplate\":\"label=%{label}<br>value=%{value}<extra></extra>\",\"labels\":[\"setosa\",\"versicolor\",\"virginica\"],\"legendgroup\":\"\",\"name\":\"\",\"showlegend\":true,\"values\":[50,50,50],\"type\":\"pie\"}],                        {\"template\":{\"data\":{\"bar\":[{\"error_x\":{\"color\":\"#f2f5fa\"},\"error_y\":{\"color\":\"#f2f5fa\"},\"marker\":{\"line\":{\"color\":\"rgb(17,17,17)\",\"width\":0.5},\"pattern\":{\"fillmode\":\"overlay\",\"size\":10,\"solidity\":0.2}},\"type\":\"bar\"}],\"barpolar\":[{\"marker\":{\"line\":{\"color\":\"rgb(17,17,17)\",\"width\":0.5},\"pattern\":{\"fillmode\":\"overlay\",\"size\":10,\"solidity\":0.2}},\"type\":\"barpolar\"}],\"carpet\":[{\"aaxis\":{\"endlinecolor\":\"#A2B1C6\",\"gridcolor\":\"#506784\",\"linecolor\":\"#506784\",\"minorgridcolor\":\"#506784\",\"startlinecolor\":\"#A2B1C6\"},\"baxis\":{\"endlinecolor\":\"#A2B1C6\",\"gridcolor\":\"#506784\",\"linecolor\":\"#506784\",\"minorgridcolor\":\"#506784\",\"startlinecolor\":\"#A2B1C6\"},\"type\":\"carpet\"}],\"choropleth\":[{\"colorbar\":{\"outlinewidth\":0,\"ticks\":\"\"},\"type\":\"choropleth\"}],\"contour\":[{\"colorbar\":{\"outlinewidth\":0,\"ticks\":\"\"},\"colorscale\":[[0.0,\"#0d0887\"],[0.1111111111111111,\"#46039f\"],[0.2222222222222222,\"#7201a8\"],[0.3333333333333333,\"#9c179e\"],[0.4444444444444444,\"#bd3786\"],[0.5555555555555556,\"#d8576b\"],[0.6666666666666666,\"#ed7953\"],[0.7777777777777778,\"#fb9f3a\"],[0.8888888888888888,\"#fdca26\"],[1.0,\"#f0f921\"]],\"type\":\"contour\"}],\"contourcarpet\":[{\"colorbar\":{\"outlinewidth\":0,\"ticks\":\"\"},\"type\":\"contourcarpet\"}],\"heatmap\":[{\"colorbar\":{\"outlinewidth\":0,\"ticks\":\"\"},\"colorscale\":[[0.0,\"#0d0887\"],[0.1111111111111111,\"#46039f\"],[0.2222222222222222,\"#7201a8\"],[0.3333333333333333,\"#9c179e\"],[0.4444444444444444,\"#bd3786\"],[0.5555555555555556,\"#d8576b\"],[0.6666666666666666,\"#ed7953\"],[0.7777777777777778,\"#fb9f3a\"],[0.8888888888888888,\"#fdca26\"],[1.0,\"#f0f921\"]],\"type\":\"heatmap\"}],\"heatmapgl\":[{\"colorbar\":{\"outlinewidth\":0,\"ticks\":\"\"},\"colorscale\":[[0.0,\"#0d0887\"],[0.1111111111111111,\"#46039f\"],[0.2222222222222222,\"#7201a8\"],[0.3333333333333333,\"#9c179e\"],[0.4444444444444444,\"#bd3786\"],[0.5555555555555556,\"#d8576b\"],[0.6666666666666666,\"#ed7953\"],[0.7777777777777778,\"#fb9f3a\"],[0.8888888888888888,\"#fdca26\"],[1.0,\"#f0f921\"]],\"type\":\"heatmapgl\"}],\"histogram\":[{\"marker\":{\"pattern\":{\"fillmode\":\"overlay\",\"size\":10,\"solidity\":0.2}},\"type\":\"histogram\"}],\"histogram2d\":[{\"colorbar\":{\"outlinewidth\":0,\"ticks\":\"\"},\"colorscale\":[[0.0,\"#0d0887\"],[0.1111111111111111,\"#46039f\"],[0.2222222222222222,\"#7201a8\"],[0.3333333333333333,\"#9c179e\"],[0.4444444444444444,\"#bd3786\"],[0.5555555555555556,\"#d8576b\"],[0.6666666666666666,\"#ed7953\"],[0.7777777777777778,\"#fb9f3a\"],[0.8888888888888888,\"#fdca26\"],[1.0,\"#f0f921\"]],\"type\":\"histogram2d\"}],\"histogram2dcontour\":[{\"colorbar\":{\"outlinewidth\":0,\"ticks\":\"\"},\"colorscale\":[[0.0,\"#0d0887\"],[0.1111111111111111,\"#46039f\"],[0.2222222222222222,\"#7201a8\"],[0.3333333333333333,\"#9c179e\"],[0.4444444444444444,\"#bd3786\"],[0.5555555555555556,\"#d8576b\"],[0.6666666666666666,\"#ed7953\"],[0.7777777777777778,\"#fb9f3a\"],[0.8888888888888888,\"#fdca26\"],[1.0,\"#f0f921\"]],\"type\":\"histogram2dcontour\"}],\"mesh3d\":[{\"colorbar\":{\"outlinewidth\":0,\"ticks\":\"\"},\"type\":\"mesh3d\"}],\"parcoords\":[{\"line\":{\"colorbar\":{\"outlinewidth\":0,\"ticks\":\"\"}},\"type\":\"parcoords\"}],\"pie\":[{\"automargin\":true,\"type\":\"pie\"}],\"scatter\":[{\"marker\":{\"line\":{\"color\":\"#283442\"}},\"type\":\"scatter\"}],\"scatter3d\":[{\"line\":{\"colorbar\":{\"outlinewidth\":0,\"ticks\":\"\"}},\"marker\":{\"colorbar\":{\"outlinewidth\":0,\"ticks\":\"\"}},\"type\":\"scatter3d\"}],\"scattercarpet\":[{\"marker\":{\"colorbar\":{\"outlinewidth\":0,\"ticks\":\"\"}},\"type\":\"scattercarpet\"}],\"scattergeo\":[{\"marker\":{\"colorbar\":{\"outlinewidth\":0,\"ticks\":\"\"}},\"type\":\"scattergeo\"}],\"scattergl\":[{\"marker\":{\"line\":{\"color\":\"#283442\"}},\"type\":\"scattergl\"}],\"scattermapbox\":[{\"marker\":{\"colorbar\":{\"outlinewidth\":0,\"ticks\":\"\"}},\"type\":\"scattermapbox\"}],\"scatterpolar\":[{\"marker\":{\"colorbar\":{\"outlinewidth\":0,\"ticks\":\"\"}},\"type\":\"scatterpolar\"}],\"scatterpolargl\":[{\"marker\":{\"colorbar\":{\"outlinewidth\":0,\"ticks\":\"\"}},\"type\":\"scatterpolargl\"}],\"scatterternary\":[{\"marker\":{\"colorbar\":{\"outlinewidth\":0,\"ticks\":\"\"}},\"type\":\"scatterternary\"}],\"surface\":[{\"colorbar\":{\"outlinewidth\":0,\"ticks\":\"\"},\"colorscale\":[[0.0,\"#0d0887\"],[0.1111111111111111,\"#46039f\"],[0.2222222222222222,\"#7201a8\"],[0.3333333333333333,\"#9c179e\"],[0.4444444444444444,\"#bd3786\"],[0.5555555555555556,\"#d8576b\"],[0.6666666666666666,\"#ed7953\"],[0.7777777777777778,\"#fb9f3a\"],[0.8888888888888888,\"#fdca26\"],[1.0,\"#f0f921\"]],\"type\":\"surface\"}],\"table\":[{\"cells\":{\"fill\":{\"color\":\"#506784\"},\"line\":{\"color\":\"rgb(17,17,17)\"}},\"header\":{\"fill\":{\"color\":\"#2a3f5f\"},\"line\":{\"color\":\"rgb(17,17,17)\"}},\"type\":\"table\"}]},\"layout\":{\"annotationdefaults\":{\"arrowcolor\":\"#f2f5fa\",\"arrowhead\":0,\"arrowwidth\":1},\"autotypenumbers\":\"strict\",\"coloraxis\":{\"colorbar\":{\"outlinewidth\":0,\"ticks\":\"\"}},\"colorscale\":{\"diverging\":[[0,\"#8e0152\"],[0.1,\"#c51b7d\"],[0.2,\"#de77ae\"],[0.3,\"#f1b6da\"],[0.4,\"#fde0ef\"],[0.5,\"#f7f7f7\"],[0.6,\"#e6f5d0\"],[0.7,\"#b8e186\"],[0.8,\"#7fbc41\"],[0.9,\"#4d9221\"],[1,\"#276419\"]],\"sequential\":[[0.0,\"#0d0887\"],[0.1111111111111111,\"#46039f\"],[0.2222222222222222,\"#7201a8\"],[0.3333333333333333,\"#9c179e\"],[0.4444444444444444,\"#bd3786\"],[0.5555555555555556,\"#d8576b\"],[0.6666666666666666,\"#ed7953\"],[0.7777777777777778,\"#fb9f3a\"],[0.8888888888888888,\"#fdca26\"],[1.0,\"#f0f921\"]],\"sequentialminus\":[[0.0,\"#0d0887\"],[0.1111111111111111,\"#46039f\"],[0.2222222222222222,\"#7201a8\"],[0.3333333333333333,\"#9c179e\"],[0.4444444444444444,\"#bd3786\"],[0.5555555555555556,\"#d8576b\"],[0.6666666666666666,\"#ed7953\"],[0.7777777777777778,\"#fb9f3a\"],[0.8888888888888888,\"#fdca26\"],[1.0,\"#f0f921\"]]},\"colorway\":[\"#636efa\",\"#EF553B\",\"#00cc96\",\"#ab63fa\",\"#FFA15A\",\"#19d3f3\",\"#FF6692\",\"#B6E880\",\"#FF97FF\",\"#FECB52\"],\"font\":{\"color\":\"#f2f5fa\"},\"geo\":{\"bgcolor\":\"rgb(17,17,17)\",\"lakecolor\":\"rgb(17,17,17)\",\"landcolor\":\"rgb(17,17,17)\",\"showlakes\":true,\"showland\":true,\"subunitcolor\":\"#506784\"},\"hoverlabel\":{\"align\":\"left\"},\"hovermode\":\"closest\",\"mapbox\":{\"style\":\"dark\"},\"paper_bgcolor\":\"rgb(17,17,17)\",\"plot_bgcolor\":\"rgb(17,17,17)\",\"polar\":{\"angularaxis\":{\"gridcolor\":\"#506784\",\"linecolor\":\"#506784\",\"ticks\":\"\"},\"bgcolor\":\"rgb(17,17,17)\",\"radialaxis\":{\"gridcolor\":\"#506784\",\"linecolor\":\"#506784\",\"ticks\":\"\"}},\"scene\":{\"xaxis\":{\"backgroundcolor\":\"rgb(17,17,17)\",\"gridcolor\":\"#506784\",\"gridwidth\":2,\"linecolor\":\"#506784\",\"showbackground\":true,\"ticks\":\"\",\"zerolinecolor\":\"#C8D4E3\"},\"yaxis\":{\"backgroundcolor\":\"rgb(17,17,17)\",\"gridcolor\":\"#506784\",\"gridwidth\":2,\"linecolor\":\"#506784\",\"showbackground\":true,\"ticks\":\"\",\"zerolinecolor\":\"#C8D4E3\"},\"zaxis\":{\"backgroundcolor\":\"rgb(17,17,17)\",\"gridcolor\":\"#506784\",\"gridwidth\":2,\"linecolor\":\"#506784\",\"showbackground\":true,\"ticks\":\"\",\"zerolinecolor\":\"#C8D4E3\"}},\"shapedefaults\":{\"line\":{\"color\":\"#f2f5fa\"}},\"sliderdefaults\":{\"bgcolor\":\"#C8D4E3\",\"bordercolor\":\"rgb(17,17,17)\",\"borderwidth\":1,\"tickwidth\":0},\"ternary\":{\"aaxis\":{\"gridcolor\":\"#506784\",\"linecolor\":\"#506784\",\"ticks\":\"\"},\"baxis\":{\"gridcolor\":\"#506784\",\"linecolor\":\"#506784\",\"ticks\":\"\"},\"bgcolor\":\"rgb(17,17,17)\",\"caxis\":{\"gridcolor\":\"#506784\",\"linecolor\":\"#506784\",\"ticks\":\"\"}},\"title\":{\"x\":0.05},\"updatemenudefaults\":{\"bgcolor\":\"#506784\",\"borderwidth\":0},\"xaxis\":{\"automargin\":true,\"gridcolor\":\"#283442\",\"linecolor\":\"#506784\",\"ticks\":\"\",\"title\":{\"standoff\":15},\"zerolinecolor\":\"#283442\",\"zerolinewidth\":2},\"yaxis\":{\"automargin\":true,\"gridcolor\":\"#283442\",\"linecolor\":\"#506784\",\"ticks\":\"\",\"title\":{\"standoff\":15},\"zerolinecolor\":\"#283442\",\"zerolinewidth\":2}}},\"legend\":{\"tracegroupgap\":0},\"title\":{\"text\":\"Distribution of Classes\"}},                        {\"responsive\": true}                    ).then(function(){\n",
       "                            \n",
       "var gd = document.getElementById('3fe9d8f1-c744-4631-8d05-f3163f2baadc');\n",
       "var x = new MutationObserver(function (mutations, observer) {{\n",
       "        var display = window.getComputedStyle(gd).display;\n",
       "        if (!display || display === 'none') {{\n",
       "            console.log([gd, 'removed!']);\n",
       "            Plotly.purge(gd);\n",
       "            observer.disconnect();\n",
       "        }}\n",
       "}});\n",
       "\n",
       "// Listen for the removal of the full notebook cells\n",
       "var notebookContainer = gd.closest('#notebook-container');\n",
       "if (notebookContainer) {{\n",
       "    x.observe(notebookContainer, {childList: true});\n",
       "}}\n",
       "\n",
       "// Listen for the clearing of the current output cell\n",
       "var outputEl = gd.closest('.output');\n",
       "if (outputEl) {{\n",
       "    x.observe(outputEl, {childList: true});\n",
       "}}\n",
       "\n",
       "                        })                };                            </script>        </div>\n",
       "</body>\n",
       "</html>"
      ]
     },
     "metadata": {},
     "output_type": "display_data"
    }
   ],
   "source": [
    "pio.templates.default = \"plotly_dark\"\n",
    "fig=px.pie(values=[(y==0).sum(), (y==1).sum(), (y==2).sum()], names=iris.target_names, title=\"Distribution of Classes\")\n",
    "fig.show()"
   ]
  },
  {
   "cell_type": "markdown",
   "metadata": {
    "id": "eLO5cwWSirYK"
   },
   "source": [
    "Tập dataset có tỉ lệ giữa các class là cân bằng nhau"
   ]
  },
  {
   "cell_type": "code",
   "execution_count": 38,
   "metadata": {
    "id": "vVXyT90xH7pH"
   },
   "outputs": [],
   "source": [
    "from sklearn.model_selection import train_test_split\n",
    "X_train, X_test, y_train, y_test = train_test_split(X, y, test_size=0.2, random_state=12)"
   ]
  },
  {
   "cell_type": "markdown",
   "metadata": {
    "id": "rOh-L_RMoy93"
   },
   "source": [
    "chọn tham số random_state để tránh thay đổi kết quả sau mỗi lần chạy lại"
   ]
  },
  {
   "cell_type": "code",
   "execution_count": 39,
   "metadata": {
    "colab": {
     "base_uri": "https://localhost:8080/",
     "height": 542
    },
    "id": "0KzJ4xdRTzvD",
    "outputId": "33e00c05-fb79-4f01-cc7c-fdbbe08a147b"
   },
   "outputs": [
    {
     "data": {
      "text/html": [
       "<html>\n",
       "<head><meta charset=\"utf-8\" /></head>\n",
       "<body>\n",
       "    <div>            <script src=\"https://cdnjs.cloudflare.com/ajax/libs/mathjax/2.7.5/MathJax.js?config=TeX-AMS-MML_SVG\"></script><script type=\"text/javascript\">if (window.MathJax) {MathJax.Hub.Config({SVG: {font: \"STIX-Web\"}});}</script>                <script type=\"text/javascript\">window.PlotlyConfig = {MathJaxConfig: 'local'};</script>\n",
       "        <script src=\"https://cdn.plot.ly/plotly-2.8.3.min.js\"></script>                <div id=\"74df3b24-da5b-4308-83aa-b9b7e35cff10\" class=\"plotly-graph-div\" style=\"height:525px; width:100%;\"></div>            <script type=\"text/javascript\">                                    window.PLOTLYENV=window.PLOTLYENV || {};                                    if (document.getElementById(\"74df3b24-da5b-4308-83aa-b9b7e35cff10\")) {                    Plotly.newPlot(                        \"74df3b24-da5b-4308-83aa-b9b7e35cff10\",                        [{\"name\":\"setosa\",\"x\":[\"train_set\",\"test_set\"],\"y\":[38,12],\"type\":\"bar\"},{\"name\":\"versicolor\",\"x\":[\"train_set\",\"test_set\"],\"y\":[41,9],\"type\":\"bar\"},{\"name\":\"virginica\",\"x\":[\"train_set\",\"test_set\"],\"y\":[41,9],\"type\":\"bar\"}],                        {\"template\":{\"data\":{\"bar\":[{\"error_x\":{\"color\":\"#f2f5fa\"},\"error_y\":{\"color\":\"#f2f5fa\"},\"marker\":{\"line\":{\"color\":\"rgb(17,17,17)\",\"width\":0.5},\"pattern\":{\"fillmode\":\"overlay\",\"size\":10,\"solidity\":0.2}},\"type\":\"bar\"}],\"barpolar\":[{\"marker\":{\"line\":{\"color\":\"rgb(17,17,17)\",\"width\":0.5},\"pattern\":{\"fillmode\":\"overlay\",\"size\":10,\"solidity\":0.2}},\"type\":\"barpolar\"}],\"carpet\":[{\"aaxis\":{\"endlinecolor\":\"#A2B1C6\",\"gridcolor\":\"#506784\",\"linecolor\":\"#506784\",\"minorgridcolor\":\"#506784\",\"startlinecolor\":\"#A2B1C6\"},\"baxis\":{\"endlinecolor\":\"#A2B1C6\",\"gridcolor\":\"#506784\",\"linecolor\":\"#506784\",\"minorgridcolor\":\"#506784\",\"startlinecolor\":\"#A2B1C6\"},\"type\":\"carpet\"}],\"choropleth\":[{\"colorbar\":{\"outlinewidth\":0,\"ticks\":\"\"},\"type\":\"choropleth\"}],\"contour\":[{\"colorbar\":{\"outlinewidth\":0,\"ticks\":\"\"},\"colorscale\":[[0.0,\"#0d0887\"],[0.1111111111111111,\"#46039f\"],[0.2222222222222222,\"#7201a8\"],[0.3333333333333333,\"#9c179e\"],[0.4444444444444444,\"#bd3786\"],[0.5555555555555556,\"#d8576b\"],[0.6666666666666666,\"#ed7953\"],[0.7777777777777778,\"#fb9f3a\"],[0.8888888888888888,\"#fdca26\"],[1.0,\"#f0f921\"]],\"type\":\"contour\"}],\"contourcarpet\":[{\"colorbar\":{\"outlinewidth\":0,\"ticks\":\"\"},\"type\":\"contourcarpet\"}],\"heatmap\":[{\"colorbar\":{\"outlinewidth\":0,\"ticks\":\"\"},\"colorscale\":[[0.0,\"#0d0887\"],[0.1111111111111111,\"#46039f\"],[0.2222222222222222,\"#7201a8\"],[0.3333333333333333,\"#9c179e\"],[0.4444444444444444,\"#bd3786\"],[0.5555555555555556,\"#d8576b\"],[0.6666666666666666,\"#ed7953\"],[0.7777777777777778,\"#fb9f3a\"],[0.8888888888888888,\"#fdca26\"],[1.0,\"#f0f921\"]],\"type\":\"heatmap\"}],\"heatmapgl\":[{\"colorbar\":{\"outlinewidth\":0,\"ticks\":\"\"},\"colorscale\":[[0.0,\"#0d0887\"],[0.1111111111111111,\"#46039f\"],[0.2222222222222222,\"#7201a8\"],[0.3333333333333333,\"#9c179e\"],[0.4444444444444444,\"#bd3786\"],[0.5555555555555556,\"#d8576b\"],[0.6666666666666666,\"#ed7953\"],[0.7777777777777778,\"#fb9f3a\"],[0.8888888888888888,\"#fdca26\"],[1.0,\"#f0f921\"]],\"type\":\"heatmapgl\"}],\"histogram\":[{\"marker\":{\"pattern\":{\"fillmode\":\"overlay\",\"size\":10,\"solidity\":0.2}},\"type\":\"histogram\"}],\"histogram2d\":[{\"colorbar\":{\"outlinewidth\":0,\"ticks\":\"\"},\"colorscale\":[[0.0,\"#0d0887\"],[0.1111111111111111,\"#46039f\"],[0.2222222222222222,\"#7201a8\"],[0.3333333333333333,\"#9c179e\"],[0.4444444444444444,\"#bd3786\"],[0.5555555555555556,\"#d8576b\"],[0.6666666666666666,\"#ed7953\"],[0.7777777777777778,\"#fb9f3a\"],[0.8888888888888888,\"#fdca26\"],[1.0,\"#f0f921\"]],\"type\":\"histogram2d\"}],\"histogram2dcontour\":[{\"colorbar\":{\"outlinewidth\":0,\"ticks\":\"\"},\"colorscale\":[[0.0,\"#0d0887\"],[0.1111111111111111,\"#46039f\"],[0.2222222222222222,\"#7201a8\"],[0.3333333333333333,\"#9c179e\"],[0.4444444444444444,\"#bd3786\"],[0.5555555555555556,\"#d8576b\"],[0.6666666666666666,\"#ed7953\"],[0.7777777777777778,\"#fb9f3a\"],[0.8888888888888888,\"#fdca26\"],[1.0,\"#f0f921\"]],\"type\":\"histogram2dcontour\"}],\"mesh3d\":[{\"colorbar\":{\"outlinewidth\":0,\"ticks\":\"\"},\"type\":\"mesh3d\"}],\"parcoords\":[{\"line\":{\"colorbar\":{\"outlinewidth\":0,\"ticks\":\"\"}},\"type\":\"parcoords\"}],\"pie\":[{\"automargin\":true,\"type\":\"pie\"}],\"scatter\":[{\"marker\":{\"line\":{\"color\":\"#283442\"}},\"type\":\"scatter\"}],\"scatter3d\":[{\"line\":{\"colorbar\":{\"outlinewidth\":0,\"ticks\":\"\"}},\"marker\":{\"colorbar\":{\"outlinewidth\":0,\"ticks\":\"\"}},\"type\":\"scatter3d\"}],\"scattercarpet\":[{\"marker\":{\"colorbar\":{\"outlinewidth\":0,\"ticks\":\"\"}},\"type\":\"scattercarpet\"}],\"scattergeo\":[{\"marker\":{\"colorbar\":{\"outlinewidth\":0,\"ticks\":\"\"}},\"type\":\"scattergeo\"}],\"scattergl\":[{\"marker\":{\"line\":{\"color\":\"#283442\"}},\"type\":\"scattergl\"}],\"scattermapbox\":[{\"marker\":{\"colorbar\":{\"outlinewidth\":0,\"ticks\":\"\"}},\"type\":\"scattermapbox\"}],\"scatterpolar\":[{\"marker\":{\"colorbar\":{\"outlinewidth\":0,\"ticks\":\"\"}},\"type\":\"scatterpolar\"}],\"scatterpolargl\":[{\"marker\":{\"colorbar\":{\"outlinewidth\":0,\"ticks\":\"\"}},\"type\":\"scatterpolargl\"}],\"scatterternary\":[{\"marker\":{\"colorbar\":{\"outlinewidth\":0,\"ticks\":\"\"}},\"type\":\"scatterternary\"}],\"surface\":[{\"colorbar\":{\"outlinewidth\":0,\"ticks\":\"\"},\"colorscale\":[[0.0,\"#0d0887\"],[0.1111111111111111,\"#46039f\"],[0.2222222222222222,\"#7201a8\"],[0.3333333333333333,\"#9c179e\"],[0.4444444444444444,\"#bd3786\"],[0.5555555555555556,\"#d8576b\"],[0.6666666666666666,\"#ed7953\"],[0.7777777777777778,\"#fb9f3a\"],[0.8888888888888888,\"#fdca26\"],[1.0,\"#f0f921\"]],\"type\":\"surface\"}],\"table\":[{\"cells\":{\"fill\":{\"color\":\"#506784\"},\"line\":{\"color\":\"rgb(17,17,17)\"}},\"header\":{\"fill\":{\"color\":\"#2a3f5f\"},\"line\":{\"color\":\"rgb(17,17,17)\"}},\"type\":\"table\"}]},\"layout\":{\"annotationdefaults\":{\"arrowcolor\":\"#f2f5fa\",\"arrowhead\":0,\"arrowwidth\":1},\"autotypenumbers\":\"strict\",\"coloraxis\":{\"colorbar\":{\"outlinewidth\":0,\"ticks\":\"\"}},\"colorscale\":{\"diverging\":[[0,\"#8e0152\"],[0.1,\"#c51b7d\"],[0.2,\"#de77ae\"],[0.3,\"#f1b6da\"],[0.4,\"#fde0ef\"],[0.5,\"#f7f7f7\"],[0.6,\"#e6f5d0\"],[0.7,\"#b8e186\"],[0.8,\"#7fbc41\"],[0.9,\"#4d9221\"],[1,\"#276419\"]],\"sequential\":[[0.0,\"#0d0887\"],[0.1111111111111111,\"#46039f\"],[0.2222222222222222,\"#7201a8\"],[0.3333333333333333,\"#9c179e\"],[0.4444444444444444,\"#bd3786\"],[0.5555555555555556,\"#d8576b\"],[0.6666666666666666,\"#ed7953\"],[0.7777777777777778,\"#fb9f3a\"],[0.8888888888888888,\"#fdca26\"],[1.0,\"#f0f921\"]],\"sequentialminus\":[[0.0,\"#0d0887\"],[0.1111111111111111,\"#46039f\"],[0.2222222222222222,\"#7201a8\"],[0.3333333333333333,\"#9c179e\"],[0.4444444444444444,\"#bd3786\"],[0.5555555555555556,\"#d8576b\"],[0.6666666666666666,\"#ed7953\"],[0.7777777777777778,\"#fb9f3a\"],[0.8888888888888888,\"#fdca26\"],[1.0,\"#f0f921\"]]},\"colorway\":[\"#636efa\",\"#EF553B\",\"#00cc96\",\"#ab63fa\",\"#FFA15A\",\"#19d3f3\",\"#FF6692\",\"#B6E880\",\"#FF97FF\",\"#FECB52\"],\"font\":{\"color\":\"#f2f5fa\"},\"geo\":{\"bgcolor\":\"rgb(17,17,17)\",\"lakecolor\":\"rgb(17,17,17)\",\"landcolor\":\"rgb(17,17,17)\",\"showlakes\":true,\"showland\":true,\"subunitcolor\":\"#506784\"},\"hoverlabel\":{\"align\":\"left\"},\"hovermode\":\"closest\",\"mapbox\":{\"style\":\"dark\"},\"paper_bgcolor\":\"rgb(17,17,17)\",\"plot_bgcolor\":\"rgb(17,17,17)\",\"polar\":{\"angularaxis\":{\"gridcolor\":\"#506784\",\"linecolor\":\"#506784\",\"ticks\":\"\"},\"bgcolor\":\"rgb(17,17,17)\",\"radialaxis\":{\"gridcolor\":\"#506784\",\"linecolor\":\"#506784\",\"ticks\":\"\"}},\"scene\":{\"xaxis\":{\"backgroundcolor\":\"rgb(17,17,17)\",\"gridcolor\":\"#506784\",\"gridwidth\":2,\"linecolor\":\"#506784\",\"showbackground\":true,\"ticks\":\"\",\"zerolinecolor\":\"#C8D4E3\"},\"yaxis\":{\"backgroundcolor\":\"rgb(17,17,17)\",\"gridcolor\":\"#506784\",\"gridwidth\":2,\"linecolor\":\"#506784\",\"showbackground\":true,\"ticks\":\"\",\"zerolinecolor\":\"#C8D4E3\"},\"zaxis\":{\"backgroundcolor\":\"rgb(17,17,17)\",\"gridcolor\":\"#506784\",\"gridwidth\":2,\"linecolor\":\"#506784\",\"showbackground\":true,\"ticks\":\"\",\"zerolinecolor\":\"#C8D4E3\"}},\"shapedefaults\":{\"line\":{\"color\":\"#f2f5fa\"}},\"sliderdefaults\":{\"bgcolor\":\"#C8D4E3\",\"bordercolor\":\"rgb(17,17,17)\",\"borderwidth\":1,\"tickwidth\":0},\"ternary\":{\"aaxis\":{\"gridcolor\":\"#506784\",\"linecolor\":\"#506784\",\"ticks\":\"\"},\"baxis\":{\"gridcolor\":\"#506784\",\"linecolor\":\"#506784\",\"ticks\":\"\"},\"bgcolor\":\"rgb(17,17,17)\",\"caxis\":{\"gridcolor\":\"#506784\",\"linecolor\":\"#506784\",\"ticks\":\"\"}},\"title\":{\"x\":0.05},\"updatemenudefaults\":{\"bgcolor\":\"#506784\",\"borderwidth\":0},\"xaxis\":{\"automargin\":true,\"gridcolor\":\"#283442\",\"linecolor\":\"#506784\",\"ticks\":\"\",\"title\":{\"standoff\":15},\"zerolinecolor\":\"#283442\",\"zerolinewidth\":2},\"yaxis\":{\"automargin\":true,\"gridcolor\":\"#283442\",\"linecolor\":\"#506784\",\"ticks\":\"\",\"title\":{\"standoff\":15},\"zerolinecolor\":\"#283442\",\"zerolinewidth\":2}}},\"barmode\":\"group\"},                        {\"responsive\": true}                    ).then(function(){\n",
       "                            \n",
       "var gd = document.getElementById('74df3b24-da5b-4308-83aa-b9b7e35cff10');\n",
       "var x = new MutationObserver(function (mutations, observer) {{\n",
       "        var display = window.getComputedStyle(gd).display;\n",
       "        if (!display || display === 'none') {{\n",
       "            console.log([gd, 'removed!']);\n",
       "            Plotly.purge(gd);\n",
       "            observer.disconnect();\n",
       "        }}\n",
       "}});\n",
       "\n",
       "// Listen for the removal of the full notebook cells\n",
       "var notebookContainer = gd.closest('#notebook-container');\n",
       "if (notebookContainer) {{\n",
       "    x.observe(notebookContainer, {childList: true});\n",
       "}}\n",
       "\n",
       "// Listen for the clearing of the current output cell\n",
       "var outputEl = gd.closest('.output');\n",
       "if (outputEl) {{\n",
       "    x.observe(outputEl, {childList: true});\n",
       "}}\n",
       "\n",
       "                        })                };                            </script>        </div>\n",
       "</body>\n",
       "</html>"
      ]
     },
     "metadata": {},
     "output_type": "display_data"
    }
   ],
   "source": [
    "fig=go.Figure(data=[\n",
    "                    go.Bar(name=iris.target_names[0], x=['train_set', 'test_set'], y=[(y_train==0).sum(), (y_test==0).sum()]),\n",
    "                    go.Bar(name=iris.target_names[1], x=['train_set', 'test_set'], y=[(y_train==1).sum(), (y_test==1).sum()]),\n",
    "                    go.Bar(name=iris.target_names[2], x=['train_set', 'test_set'], y=[(y_train==2).sum(), (y_test==2).sum()])            \n",
    "])\n",
    "fig.update_layout(barmode='group')\n",
    "fig.show()"
   ]
  },
  {
   "cell_type": "markdown",
   "metadata": {
    "id": "ZohbsWBcpo0V"
   },
   "source": [
    "Tập dữ liệu sau khi chia xảy ra hiện tượng mất cân bằng giữa các class"
   ]
  },
  {
   "cell_type": "markdown",
   "metadata": {
    "id": "1VC8m9o_owVJ"
   },
   "source": []
  },
  {
   "cell_type": "code",
   "execution_count": 40,
   "metadata": {
    "colab": {
     "base_uri": "https://localhost:8080/"
    },
    "id": "EfQdMGAqsVU9",
    "outputId": "9ddb028c-9f42-4a3d-a910-a6eb7230680c"
   },
   "outputs": [
    {
     "data": {
      "text/plain": [
       "array([5.1, 4.9, 4.7, 4.6, 5. , 5.4, 4.6, 5. , 4.4, 4.9, 5.4, 4.8, 4.8,\n",
       "       4.3, 5.8, 5.7, 5.4, 5.1, 5.7, 5.1, 5.4, 5.1, 4.6, 5.1, 4.8, 5. ,\n",
       "       5. , 5.2, 5.2, 4.7, 4.8, 5.4, 5.2, 5.5, 4.9, 5. , 5.5, 4.9, 4.4,\n",
       "       5.1, 5. , 4.5, 4.4, 5. , 5.1, 4.8, 5.1, 4.6, 5.3, 5. , 7. , 6.4,\n",
       "       6.9, 5.5, 6.5, 5.7, 6.3, 4.9, 6.6, 5.2, 5. , 5.9, 6. , 6.1, 5.6,\n",
       "       6.7, 5.6, 5.8, 6.2, 5.6, 5.9, 6.1, 6.3, 6.1, 6.4, 6.6, 6.8, 6.7,\n",
       "       6. , 5.7, 5.5, 5.5, 5.8, 6. , 5.4, 6. , 6.7, 6.3, 5.6, 5.5, 5.5,\n",
       "       6.1, 5.8, 5. , 5.6, 5.7, 5.7, 6.2, 5.1, 5.7, 6.3, 5.8, 7.1, 6.3,\n",
       "       6.5, 7.6, 4.9, 7.3, 6.7, 7.2, 6.5, 6.4, 6.8, 5.7, 5.8, 6.4, 6.5,\n",
       "       7.7, 7.7, 6. , 6.9, 5.6, 7.7, 6.3, 6.7, 7.2, 6.2, 6.1, 6.4, 7.2,\n",
       "       7.4, 7.9, 6.4, 6.3, 6.1, 7.7, 6.3, 6.4, 6. , 6.9, 6.7, 6.9, 5.8,\n",
       "       6.8, 6.7, 6.7, 6.3, 6.5, 6.2, 5.9])"
      ]
     },
     "execution_count": 40,
     "metadata": {},
     "output_type": "execute_result"
    }
   ],
   "source": [
    " iris.data[:,0]"
   ]
  },
  {
   "cell_type": "code",
   "execution_count": 41,
   "metadata": {
    "colab": {
     "base_uri": "https://localhost:8080/",
     "height": 542
    },
    "id": "WuIp21vXr5o9",
    "outputId": "a011440e-e642-482d-fbaf-f56cfabc60c8"
   },
   "outputs": [
    {
     "data": {
      "text/html": [
       "<html>\n",
       "<head><meta charset=\"utf-8\" /></head>\n",
       "<body>\n",
       "    <div>            <script src=\"https://cdnjs.cloudflare.com/ajax/libs/mathjax/2.7.5/MathJax.js?config=TeX-AMS-MML_SVG\"></script><script type=\"text/javascript\">if (window.MathJax) {MathJax.Hub.Config({SVG: {font: \"STIX-Web\"}});}</script>                <script type=\"text/javascript\">window.PlotlyConfig = {MathJaxConfig: 'local'};</script>\n",
       "        <script src=\"https://cdn.plot.ly/plotly-2.8.3.min.js\"></script>                <div id=\"16a4d095-046d-483d-8baf-15d89509d3a8\" class=\"plotly-graph-div\" style=\"height:525px; width:100%;\"></div>            <script type=\"text/javascript\">                                    window.PLOTLYENV=window.PLOTLYENV || {};                                    if (document.getElementById(\"16a4d095-046d-483d-8baf-15d89509d3a8\")) {                    Plotly.newPlot(                        \"16a4d095-046d-483d-8baf-15d89509d3a8\",                        [{\"hovertemplate\":\"x=%{x}<br>y=%{y}<br>color=%{marker.color}<extra></extra>\",\"legendgroup\":\"\",\"marker\":{\"color\":[0,0,0,0,0,0,0,0,0,0,0,0,0,0,0,0,0,0,0,0,0,0,0,0,0,0,0,0,0,0,0,0,0,0,0,0,0,0,0,0,0,0,0,0,0,0,0,0,0,0,1,1,1,1,1,1,1,1,1,1,1,1,1,1,1,1,1,1,1,1,1,1,1,1,1,1,1,1,1,1,1,1,1,1,1,1,1,1,1,1,1,1,1,1,1,1,1,1,1,1,2,2,2,2,2,2,2,2,2,2,2,2,2,2,2,2,2,2,2,2,2,2,2,2,2,2,2,2,2,2,2,2,2,2,2,2,2,2,2,2,2,2,2,2,2,2,2,2,2,2],\"coloraxis\":\"coloraxis\",\"symbol\":\"circle\"},\"mode\":\"markers\",\"name\":\"\",\"orientation\":\"v\",\"showlegend\":false,\"x\":[5.1,4.9,4.7,4.6,5.0,5.4,4.6,5.0,4.4,4.9,5.4,4.8,4.8,4.3,5.8,5.7,5.4,5.1,5.7,5.1,5.4,5.1,4.6,5.1,4.8,5.0,5.0,5.2,5.2,4.7,4.8,5.4,5.2,5.5,4.9,5.0,5.5,4.9,4.4,5.1,5.0,4.5,4.4,5.0,5.1,4.8,5.1,4.6,5.3,5.0,7.0,6.4,6.9,5.5,6.5,5.7,6.3,4.9,6.6,5.2,5.0,5.9,6.0,6.1,5.6,6.7,5.6,5.8,6.2,5.6,5.9,6.1,6.3,6.1,6.4,6.6,6.8,6.7,6.0,5.7,5.5,5.5,5.8,6.0,5.4,6.0,6.7,6.3,5.6,5.5,5.5,6.1,5.8,5.0,5.6,5.7,5.7,6.2,5.1,5.7,6.3,5.8,7.1,6.3,6.5,7.6,4.9,7.3,6.7,7.2,6.5,6.4,6.8,5.7,5.8,6.4,6.5,7.7,7.7,6.0,6.9,5.6,7.7,6.3,6.7,7.2,6.2,6.1,6.4,7.2,7.4,7.9,6.4,6.3,6.1,7.7,6.3,6.4,6.0,6.9,6.7,6.9,5.8,6.8,6.7,6.7,6.3,6.5,6.2,5.9],\"xaxis\":\"x\",\"y\":[3.5,3.0,3.2,3.1,3.6,3.9,3.4,3.4,2.9,3.1,3.7,3.4,3.0,3.0,4.0,4.4,3.9,3.5,3.8,3.8,3.4,3.7,3.6,3.3,3.4,3.0,3.4,3.5,3.4,3.2,3.1,3.4,4.1,4.2,3.1,3.2,3.5,3.6,3.0,3.4,3.5,2.3,3.2,3.5,3.8,3.0,3.8,3.2,3.7,3.3,3.2,3.2,3.1,2.3,2.8,2.8,3.3,2.4,2.9,2.7,2.0,3.0,2.2,2.9,2.9,3.1,3.0,2.7,2.2,2.5,3.2,2.8,2.5,2.8,2.9,3.0,2.8,3.0,2.9,2.6,2.4,2.4,2.7,2.7,3.0,3.4,3.1,2.3,3.0,2.5,2.6,3.0,2.6,2.3,2.7,3.0,2.9,2.9,2.5,2.8,3.3,2.7,3.0,2.9,3.0,3.0,2.5,2.9,2.5,3.6,3.2,2.7,3.0,2.5,2.8,3.2,3.0,3.8,2.6,2.2,3.2,2.8,2.8,2.7,3.3,3.2,2.8,3.0,2.8,3.0,2.8,3.8,2.8,2.8,2.6,3.0,3.4,3.1,3.0,3.1,3.1,3.1,2.7,3.2,3.3,3.0,2.5,3.0,3.4,3.0],\"yaxis\":\"y\",\"type\":\"scatter\"}],                        {\"template\":{\"data\":{\"barpolar\":[{\"marker\":{\"line\":{\"color\":\"#E5ECF6\",\"width\":0.5},\"pattern\":{\"fillmode\":\"overlay\",\"size\":10,\"solidity\":0.2}},\"type\":\"barpolar\"}],\"bar\":[{\"error_x\":{\"color\":\"#2a3f5f\"},\"error_y\":{\"color\":\"#2a3f5f\"},\"marker\":{\"line\":{\"color\":\"#E5ECF6\",\"width\":0.5},\"pattern\":{\"fillmode\":\"overlay\",\"size\":10,\"solidity\":0.2}},\"type\":\"bar\"}],\"carpet\":[{\"aaxis\":{\"endlinecolor\":\"#2a3f5f\",\"gridcolor\":\"white\",\"linecolor\":\"white\",\"minorgridcolor\":\"white\",\"startlinecolor\":\"#2a3f5f\"},\"baxis\":{\"endlinecolor\":\"#2a3f5f\",\"gridcolor\":\"white\",\"linecolor\":\"white\",\"minorgridcolor\":\"white\",\"startlinecolor\":\"#2a3f5f\"},\"type\":\"carpet\"}],\"choropleth\":[{\"colorbar\":{\"outlinewidth\":0,\"ticks\":\"\"},\"type\":\"choropleth\"}],\"contourcarpet\":[{\"colorbar\":{\"outlinewidth\":0,\"ticks\":\"\"},\"type\":\"contourcarpet\"}],\"contour\":[{\"colorbar\":{\"outlinewidth\":0,\"ticks\":\"\"},\"colorscale\":[[0.0,\"#0d0887\"],[0.1111111111111111,\"#46039f\"],[0.2222222222222222,\"#7201a8\"],[0.3333333333333333,\"#9c179e\"],[0.4444444444444444,\"#bd3786\"],[0.5555555555555556,\"#d8576b\"],[0.6666666666666666,\"#ed7953\"],[0.7777777777777778,\"#fb9f3a\"],[0.8888888888888888,\"#fdca26\"],[1.0,\"#f0f921\"]],\"type\":\"contour\"}],\"heatmapgl\":[{\"colorbar\":{\"outlinewidth\":0,\"ticks\":\"\"},\"colorscale\":[[0.0,\"#0d0887\"],[0.1111111111111111,\"#46039f\"],[0.2222222222222222,\"#7201a8\"],[0.3333333333333333,\"#9c179e\"],[0.4444444444444444,\"#bd3786\"],[0.5555555555555556,\"#d8576b\"],[0.6666666666666666,\"#ed7953\"],[0.7777777777777778,\"#fb9f3a\"],[0.8888888888888888,\"#fdca26\"],[1.0,\"#f0f921\"]],\"type\":\"heatmapgl\"}],\"heatmap\":[{\"colorbar\":{\"outlinewidth\":0,\"ticks\":\"\"},\"colorscale\":[[0.0,\"#0d0887\"],[0.1111111111111111,\"#46039f\"],[0.2222222222222222,\"#7201a8\"],[0.3333333333333333,\"#9c179e\"],[0.4444444444444444,\"#bd3786\"],[0.5555555555555556,\"#d8576b\"],[0.6666666666666666,\"#ed7953\"],[0.7777777777777778,\"#fb9f3a\"],[0.8888888888888888,\"#fdca26\"],[1.0,\"#f0f921\"]],\"type\":\"heatmap\"}],\"histogram2dcontour\":[{\"colorbar\":{\"outlinewidth\":0,\"ticks\":\"\"},\"colorscale\":[[0.0,\"#0d0887\"],[0.1111111111111111,\"#46039f\"],[0.2222222222222222,\"#7201a8\"],[0.3333333333333333,\"#9c179e\"],[0.4444444444444444,\"#bd3786\"],[0.5555555555555556,\"#d8576b\"],[0.6666666666666666,\"#ed7953\"],[0.7777777777777778,\"#fb9f3a\"],[0.8888888888888888,\"#fdca26\"],[1.0,\"#f0f921\"]],\"type\":\"histogram2dcontour\"}],\"histogram2d\":[{\"colorbar\":{\"outlinewidth\":0,\"ticks\":\"\"},\"colorscale\":[[0.0,\"#0d0887\"],[0.1111111111111111,\"#46039f\"],[0.2222222222222222,\"#7201a8\"],[0.3333333333333333,\"#9c179e\"],[0.4444444444444444,\"#bd3786\"],[0.5555555555555556,\"#d8576b\"],[0.6666666666666666,\"#ed7953\"],[0.7777777777777778,\"#fb9f3a\"],[0.8888888888888888,\"#fdca26\"],[1.0,\"#f0f921\"]],\"type\":\"histogram2d\"}],\"histogram\":[{\"marker\":{\"pattern\":{\"fillmode\":\"overlay\",\"size\":10,\"solidity\":0.2}},\"type\":\"histogram\"}],\"mesh3d\":[{\"colorbar\":{\"outlinewidth\":0,\"ticks\":\"\"},\"type\":\"mesh3d\"}],\"parcoords\":[{\"line\":{\"colorbar\":{\"outlinewidth\":0,\"ticks\":\"\"}},\"type\":\"parcoords\"}],\"pie\":[{\"automargin\":true,\"type\":\"pie\"}],\"scatter3d\":[{\"line\":{\"colorbar\":{\"outlinewidth\":0,\"ticks\":\"\"}},\"marker\":{\"colorbar\":{\"outlinewidth\":0,\"ticks\":\"\"}},\"type\":\"scatter3d\"}],\"scattercarpet\":[{\"marker\":{\"colorbar\":{\"outlinewidth\":0,\"ticks\":\"\"}},\"type\":\"scattercarpet\"}],\"scattergeo\":[{\"marker\":{\"colorbar\":{\"outlinewidth\":0,\"ticks\":\"\"}},\"type\":\"scattergeo\"}],\"scattergl\":[{\"marker\":{\"colorbar\":{\"outlinewidth\":0,\"ticks\":\"\"}},\"type\":\"scattergl\"}],\"scattermapbox\":[{\"marker\":{\"colorbar\":{\"outlinewidth\":0,\"ticks\":\"\"}},\"type\":\"scattermapbox\"}],\"scatterpolargl\":[{\"marker\":{\"colorbar\":{\"outlinewidth\":0,\"ticks\":\"\"}},\"type\":\"scatterpolargl\"}],\"scatterpolar\":[{\"marker\":{\"colorbar\":{\"outlinewidth\":0,\"ticks\":\"\"}},\"type\":\"scatterpolar\"}],\"scatter\":[{\"marker\":{\"colorbar\":{\"outlinewidth\":0,\"ticks\":\"\"}},\"type\":\"scatter\"}],\"scatterternary\":[{\"marker\":{\"colorbar\":{\"outlinewidth\":0,\"ticks\":\"\"}},\"type\":\"scatterternary\"}],\"surface\":[{\"colorbar\":{\"outlinewidth\":0,\"ticks\":\"\"},\"colorscale\":[[0.0,\"#0d0887\"],[0.1111111111111111,\"#46039f\"],[0.2222222222222222,\"#7201a8\"],[0.3333333333333333,\"#9c179e\"],[0.4444444444444444,\"#bd3786\"],[0.5555555555555556,\"#d8576b\"],[0.6666666666666666,\"#ed7953\"],[0.7777777777777778,\"#fb9f3a\"],[0.8888888888888888,\"#fdca26\"],[1.0,\"#f0f921\"]],\"type\":\"surface\"}],\"table\":[{\"cells\":{\"fill\":{\"color\":\"#EBF0F8\"},\"line\":{\"color\":\"white\"}},\"header\":{\"fill\":{\"color\":\"#C8D4E3\"},\"line\":{\"color\":\"white\"}},\"type\":\"table\"}]},\"layout\":{\"annotationdefaults\":{\"arrowcolor\":\"#2a3f5f\",\"arrowhead\":0,\"arrowwidth\":1},\"autotypenumbers\":\"strict\",\"coloraxis\":{\"colorbar\":{\"outlinewidth\":0,\"ticks\":\"\"}},\"colorscale\":{\"diverging\":[[0,\"#8e0152\"],[0.1,\"#c51b7d\"],[0.2,\"#de77ae\"],[0.3,\"#f1b6da\"],[0.4,\"#fde0ef\"],[0.5,\"#f7f7f7\"],[0.6,\"#e6f5d0\"],[0.7,\"#b8e186\"],[0.8,\"#7fbc41\"],[0.9,\"#4d9221\"],[1,\"#276419\"]],\"sequential\":[[0.0,\"#0d0887\"],[0.1111111111111111,\"#46039f\"],[0.2222222222222222,\"#7201a8\"],[0.3333333333333333,\"#9c179e\"],[0.4444444444444444,\"#bd3786\"],[0.5555555555555556,\"#d8576b\"],[0.6666666666666666,\"#ed7953\"],[0.7777777777777778,\"#fb9f3a\"],[0.8888888888888888,\"#fdca26\"],[1.0,\"#f0f921\"]],\"sequentialminus\":[[0.0,\"#0d0887\"],[0.1111111111111111,\"#46039f\"],[0.2222222222222222,\"#7201a8\"],[0.3333333333333333,\"#9c179e\"],[0.4444444444444444,\"#bd3786\"],[0.5555555555555556,\"#d8576b\"],[0.6666666666666666,\"#ed7953\"],[0.7777777777777778,\"#fb9f3a\"],[0.8888888888888888,\"#fdca26\"],[1.0,\"#f0f921\"]]},\"colorway\":[\"#636efa\",\"#EF553B\",\"#00cc96\",\"#ab63fa\",\"#FFA15A\",\"#19d3f3\",\"#FF6692\",\"#B6E880\",\"#FF97FF\",\"#FECB52\"],\"font\":{\"color\":\"#2a3f5f\"},\"geo\":{\"bgcolor\":\"white\",\"lakecolor\":\"white\",\"landcolor\":\"#E5ECF6\",\"showlakes\":true,\"showland\":true,\"subunitcolor\":\"white\"},\"hoverlabel\":{\"align\":\"left\"},\"hovermode\":\"closest\",\"mapbox\":{\"style\":\"light\"},\"paper_bgcolor\":\"white\",\"plot_bgcolor\":\"#E5ECF6\",\"polar\":{\"angularaxis\":{\"gridcolor\":\"white\",\"linecolor\":\"white\",\"ticks\":\"\"},\"bgcolor\":\"#E5ECF6\",\"radialaxis\":{\"gridcolor\":\"white\",\"linecolor\":\"white\",\"ticks\":\"\"}},\"scene\":{\"xaxis\":{\"backgroundcolor\":\"#E5ECF6\",\"gridcolor\":\"white\",\"gridwidth\":2,\"linecolor\":\"white\",\"showbackground\":true,\"ticks\":\"\",\"zerolinecolor\":\"white\"},\"yaxis\":{\"backgroundcolor\":\"#E5ECF6\",\"gridcolor\":\"white\",\"gridwidth\":2,\"linecolor\":\"white\",\"showbackground\":true,\"ticks\":\"\",\"zerolinecolor\":\"white\"},\"zaxis\":{\"backgroundcolor\":\"#E5ECF6\",\"gridcolor\":\"white\",\"gridwidth\":2,\"linecolor\":\"white\",\"showbackground\":true,\"ticks\":\"\",\"zerolinecolor\":\"white\"}},\"shapedefaults\":{\"line\":{\"color\":\"#2a3f5f\"}},\"ternary\":{\"aaxis\":{\"gridcolor\":\"white\",\"linecolor\":\"white\",\"ticks\":\"\"},\"baxis\":{\"gridcolor\":\"white\",\"linecolor\":\"white\",\"ticks\":\"\"},\"bgcolor\":\"#E5ECF6\",\"caxis\":{\"gridcolor\":\"white\",\"linecolor\":\"white\",\"ticks\":\"\"}},\"title\":{\"x\":0.05},\"xaxis\":{\"automargin\":true,\"gridcolor\":\"white\",\"linecolor\":\"white\",\"ticks\":\"\",\"title\":{\"standoff\":15},\"zerolinecolor\":\"white\",\"zerolinewidth\":2},\"yaxis\":{\"automargin\":true,\"gridcolor\":\"white\",\"linecolor\":\"white\",\"ticks\":\"\",\"title\":{\"standoff\":15},\"zerolinecolor\":\"white\",\"zerolinewidth\":2}}},\"xaxis\":{\"anchor\":\"y\",\"domain\":[0.0,1.0],\"title\":{\"text\":\"x\"}},\"yaxis\":{\"anchor\":\"x\",\"domain\":[0.0,1.0],\"title\":{\"text\":\"y\"}},\"coloraxis\":{\"colorbar\":{\"title\":{\"text\":\"color\"}},\"colorscale\":[[0.0,\"#0d0887\"],[0.1111111111111111,\"#46039f\"],[0.2222222222222222,\"#7201a8\"],[0.3333333333333333,\"#9c179e\"],[0.4444444444444444,\"#bd3786\"],[0.5555555555555556,\"#d8576b\"],[0.6666666666666666,\"#ed7953\"],[0.7777777777777778,\"#fb9f3a\"],[0.8888888888888888,\"#fdca26\"],[1.0,\"#f0f921\"]]},\"legend\":{\"tracegroupgap\":0},\"margin\":{\"t\":60}},                        {\"responsive\": true}                    ).then(function(){\n",
       "                            \n",
       "var gd = document.getElementById('16a4d095-046d-483d-8baf-15d89509d3a8');\n",
       "var x = new MutationObserver(function (mutations, observer) {{\n",
       "        var display = window.getComputedStyle(gd).display;\n",
       "        if (!display || display === 'none') {{\n",
       "            console.log([gd, 'removed!']);\n",
       "            Plotly.purge(gd);\n",
       "            observer.disconnect();\n",
       "        }}\n",
       "}});\n",
       "\n",
       "// Listen for the removal of the full notebook cells\n",
       "var notebookContainer = gd.closest('#notebook-container');\n",
       "if (notebookContainer) {{\n",
       "    x.observe(notebookContainer, {childList: true});\n",
       "}}\n",
       "\n",
       "// Listen for the clearing of the current output cell\n",
       "var outputEl = gd.closest('.output');\n",
       "if (outputEl) {{\n",
       "    x.observe(outputEl, {childList: true});\n",
       "}}\n",
       "\n",
       "                        })                };                            </script>        </div>\n",
       "</body>\n",
       "</html>"
      ]
     },
     "metadata": {},
     "output_type": "display_data"
    }
   ],
   "source": [
    "fig = px.scatter( x = iris.data[:,0], y = iris.data[:,1], color=iris.target[:], template=\"plotly\")\n",
    "fig.show()"
   ]
  },
  {
   "cell_type": "markdown",
   "metadata": {
    "id": "1o8yZQzfsgA4"
   },
   "source": [
    "Dễ dàng nhìn thấp được sự phân tách tuyến tính của class 0 (Setosa)"
   ]
  },
  {
   "cell_type": "markdown",
   "metadata": {
    "id": "aCHYD852lcM9"
   },
   "source": [
    "#Huấn luyện hệ thống"
   ]
  },
  {
   "cell_type": "markdown",
   "metadata": {
    "id": "_rHpYhr4l8bi"
   },
   "source": [
    "Sử dụng phương pháp Logistic Regression"
   ]
  },
  {
   "cell_type": "code",
   "execution_count": 42,
   "metadata": {
    "colab": {
     "base_uri": "https://localhost:8080/"
    },
    "id": "cF4xS0kuH3om",
    "outputId": "596b8d00-8c0e-4bdd-ff4c-3c956a66bf46"
   },
   "outputs": [
    {
     "data": {
      "text/plain": [
       "LogisticRegression()"
      ]
     },
     "execution_count": 42,
     "metadata": {},
     "output_type": "execute_result"
    }
   ],
   "source": [
    "from sklearn.linear_model import LogisticRegression\n",
    "model=LogisticRegression()\n",
    "model.fit(X_train,y_train)"
   ]
  },
  {
   "cell_type": "code",
   "execution_count": 43,
   "metadata": {
    "id": "Zibboqc7IpX7"
   },
   "outputs": [],
   "source": [
    "y_pred=model.predict(X_test)"
   ]
  },
  {
   "cell_type": "code",
   "execution_count": 44,
   "metadata": {
    "colab": {
     "base_uri": "https://localhost:8080/"
    },
    "id": "cSaMsey1jc-v",
    "outputId": "73add1d5-e8f4-4b02-efb9-60469c7a4d0b"
   },
   "outputs": [
    {
     "name": "stdout",
     "output_type": "stream",
     "text": [
      "              precision    recall  f1-score   support\n",
      "\n",
      "           0       1.00      0.92      0.96        12\n",
      "           1       0.70      0.78      0.74         9\n",
      "           2       0.78      0.78      0.78         9\n",
      "\n",
      "    accuracy                           0.83        30\n",
      "   macro avg       0.83      0.82      0.82        30\n",
      "weighted avg       0.84      0.83      0.84        30\n",
      "\n"
     ]
    }
   ],
   "source": [
    "print(classification_report(y_test,y_pred))"
   ]
  },
  {
   "cell_type": "code",
   "execution_count": 45,
   "metadata": {
    "colab": {
     "base_uri": "https://localhost:8080/"
    },
    "id": "UmD8Nf9KIuES",
    "outputId": "7b912b0f-8d93-4c21-f32b-5dc8c303ebde"
   },
   "outputs": [
    {
     "name": "stdout",
     "output_type": "stream",
     "text": [
      "--Logistic Regression report--\n",
      "Accuracy: 0.8333333333333334\n",
      "Precision:  0.825925925925926\n",
      "Recall: 0.8240740740740741\n",
      "F1_micro: 0.8333333333333334\n",
      "F1_macro: 0.8237138740571234\n"
     ]
    }
   ],
   "source": [
    "from sklearn.metrics import accuracy_score, precision_score, recall_score, f1_score, confusion_matrix, classification_report\n",
    "\n",
    "print(\"--Logistic Regression report--\")\n",
    "print(\"Accuracy: {}\".format(accuracy_score(y_test, y_pred)))\n",
    "print(\"Precision: \",str(precision_score(y_test, y_pred, average='macro')))\n",
    "print(\"Recall: \" + str(recall_score(y_test, y_pred, average='macro')))\n",
    "print(\"F1_micro: \" + str(f1_score(y_test, y_pred, average='micro')))\n",
    "print(\"F1_macro: \" + str(f1_score(y_test, y_pred, average='macro')))\n",
    "\n"
   ]
  },
  {
   "cell_type": "markdown",
   "metadata": {
    "id": "dK_qsunPlb1o"
   },
   "source": [
    "Sử dụng phương pháp KNeighbors Classifier"
   ]
  },
  {
   "cell_type": "code",
   "execution_count": 46,
   "metadata": {
    "id": "q3K_3N-JqVmy"
   },
   "outputs": [],
   "source": [
    "from sklearn.neighbors import KNeighborsClassifier\n",
    "range_k=np.arange(1,15)\n",
    "scores={}\n",
    "score_list=[]\n",
    "for k in range_k:\n",
    "  classifier=KNeighborsClassifier(n_neighbors=k)\n",
    "  classifier.fit(X_train,y_train)\n",
    "  y_pred=classifier.predict(X_test)\n",
    "  scores[k]=f1_score(y_test,y_pred,average='macro')\n",
    "  score_list.append(scores[k])"
   ]
  },
  {
   "cell_type": "code",
   "execution_count": 47,
   "metadata": {
    "colab": {
     "base_uri": "https://localhost:8080/"
    },
    "id": "4-qnbUl6sMon",
    "outputId": "10c4a890-8420-4181-a72f-76780fec5930"
   },
   "outputs": [
    {
     "data": {
      "text/plain": [
       "[0.7811421670117323,\n",
       " 0.7087395696091349,\n",
       " 0.7077294685990339,\n",
       " 0.6794643613865583,\n",
       " 0.6757033248081842,\n",
       " 0.6759834368530021,\n",
       " 0.7515891177218408,\n",
       " 0.7493961352657005,\n",
       " 0.8518518518518517,\n",
       " 0.8142414860681114,\n",
       " 0.8441558441558442,\n",
       " 0.8142414860681114,\n",
       " 0.85,\n",
       " 0.8518518518518517]"
      ]
     },
     "execution_count": 47,
     "metadata": {},
     "output_type": "execute_result"
    }
   ],
   "source": [
    "score_list"
   ]
  },
  {
   "cell_type": "code",
   "execution_count": 48,
   "metadata": {
    "colab": {
     "base_uri": "https://localhost:8080/"
    },
    "id": "sPPESS47sT3B",
    "outputId": "811d54b1-983a-48a0-a297-b28c0ada33b1"
   },
   "outputs": [
    {
     "data": {
      "text/plain": [
       "(array([ 8, 13]),)"
      ]
     },
     "execution_count": 48,
     "metadata": {},
     "output_type": "execute_result"
    }
   ],
   "source": [
    "np.where(score_list==np.max(score_list))"
   ]
  },
  {
   "cell_type": "markdown",
   "metadata": {
    "id": "cmI07TRjnFk5"
   },
   "source": [
    "Huấn luyện mô hình dựa theo tham số n_neighbors tốt nhất tìm được"
   ]
  },
  {
   "cell_type": "code",
   "execution_count": 49,
   "metadata": {
    "colab": {
     "base_uri": "https://localhost:8080/"
    },
    "id": "U1ldMHz6umQx",
    "outputId": "3a7816ab-f85b-4747-f6a2-ce8f2a730172"
   },
   "outputs": [
    {
     "name": "stdout",
     "output_type": "stream",
     "text": [
      "-- KNeighbors Report-\n",
      "Accuracy: 0.8666666666666667\n",
      "Precision:  0.8518518518518517\n",
      "Recall: 0.8518518518518517\n",
      "F1_micro: 0.8666666666666667\n",
      "F1_macro: 0.8518518518518517\n"
     ]
    }
   ],
   "source": [
    "classifier=KNeighborsClassifier(n_neighbors=score_list.index(np.max(score_list))+1)\n",
    "classifier.fit(X_train,y_train)\n",
    "y_pred=classifier.predict(X_test)\n",
    "\n",
    "from sklearn.metrics import accuracy_score, precision_score, recall_score, f1_score\n",
    "print(\"-- KNeighbors Report-\")\n",
    "print(\"Accuracy: {}\".format(accuracy_score(y_test, y_pred)))\n",
    "print(\"Precision: \",str(precision_score(y_test, y_pred, average='macro')))\n",
    "print(\"Recall: \" + str(recall_score(y_test, y_pred, average='macro')))\n",
    "print(\"F1_micro: \" + str(f1_score(y_test, y_pred, average='micro')))\n",
    "print(\"F1_macro: \" + str(f1_score(y_test, y_pred, average='macro')))"
   ]
  },
  {
   "cell_type": "markdown",
   "metadata": {
    "id": "oNAZrVM3sTAr"
   },
   "source": [
    "Accuracy của mô hình KNeighbors Classifier nhìn chung cao hơn so với Logistic Regression "
   ]
  },
  {
   "cell_type": "markdown",
   "metadata": {
    "id": "lainEqHnn0Vt"
   },
   "source": [
    "Sử dụng phương pháp GridSearchCV để lựa chọn tham số"
   ]
  },
  {
   "cell_type": "code",
   "execution_count": 50,
   "metadata": {
    "id": "s8Sxj9Jf-I-1"
   },
   "outputs": [],
   "source": [
    "param_grid=dict(n_neighbors=list(range(1,15)))"
   ]
  },
  {
   "cell_type": "code",
   "execution_count": 51,
   "metadata": {
    "colab": {
     "base_uri": "https://localhost:8080/"
    },
    "id": "Szjq6Xot-na_",
    "outputId": "a578bff9-7619-4d22-e243-26a8b6385e99"
   },
   "outputs": [
    {
     "data": {
      "text/plain": [
       "{'n_neighbors': [1, 2, 3, 4, 5, 6, 7, 8, 9, 10, 11, 12, 13, 14]}"
      ]
     },
     "execution_count": 51,
     "metadata": {},
     "output_type": "execute_result"
    }
   ],
   "source": [
    "param_grid"
   ]
  },
  {
   "cell_type": "code",
   "execution_count": 52,
   "metadata": {
    "colab": {
     "base_uri": "https://localhost:8080/"
    },
    "id": "pCZJgnDzZWGx",
    "outputId": "11116ad8-0ba9-4e38-8393-cd3e29207680"
   },
   "outputs": [
    {
     "name": "stdout",
     "output_type": "stream",
     "text": [
      "Fitting 7 folds for each of 14 candidates, totalling 98 fits\n",
      "[CV 1/7] END .....................n_neighbors=1;, score=0.720 total time=   0.0s\n",
      "[CV 2/7] END .....................n_neighbors=1;, score=0.697 total time=   0.0s\n",
      "[CV 3/7] END .....................n_neighbors=1;, score=0.812 total time=   0.0s\n",
      "[CV 4/7] END .....................n_neighbors=1;, score=0.667 total time=   0.0s\n",
      "[CV 5/7] END .....................n_neighbors=1;, score=0.832 total time=   0.0s\n",
      "[CV 6/7] END .....................n_neighbors=1;, score=0.832 total time=   0.0s\n",
      "[CV 7/7] END .....................n_neighbors=1;, score=0.657 total time=   0.0s\n",
      "[CV 1/7] END .....................n_neighbors=2;, score=0.664 total time=   0.0s\n",
      "[CV 2/7] END .....................n_neighbors=2;, score=0.651 total time=   0.0s\n",
      "[CV 3/7] END .....................n_neighbors=2;, score=0.878 total time=   0.0s\n",
      "[CV 4/7] END .....................n_neighbors=2;, score=0.625 total time=   0.0s\n",
      "[CV 5/7] END .....................n_neighbors=2;, score=0.750 total time=   0.0s\n",
      "[CV 6/7] END .....................n_neighbors=2;, score=0.750 total time=   0.0s\n",
      "[CV 7/7] END .....................n_neighbors=2;, score=0.778 total time=   0.0s\n",
      "[CV 1/7] END .....................n_neighbors=3;, score=0.822 total time=   0.0s\n",
      "[CV 2/7] END .....................n_neighbors=3;, score=0.633 total time=   0.0s\n",
      "[CV 3/7] END .....................n_neighbors=3;, score=0.878 total time=   0.0s\n",
      "[CV 4/7] END .....................n_neighbors=3;, score=0.556 total time=   0.0s\n",
      "[CV 5/7] END .....................n_neighbors=3;, score=0.771 total time=   0.0s\n",
      "[CV 6/7] END .....................n_neighbors=3;, score=0.720 total time=   0.0s\n",
      "[CV 7/7] END .....................n_neighbors=3;, score=0.771 total time=   0.0s\n",
      "[CV 1/7] END .....................n_neighbors=4;, score=0.750 total time=   0.0s\n",
      "[CV 2/7] END .....................n_neighbors=4;, score=0.651 total time=   0.0s\n",
      "[CV 3/7] END .....................n_neighbors=4;, score=0.878 total time=   0.0s\n",
      "[CV 4/7] END .....................n_neighbors=4;, score=0.657 total time=   0.0s\n",
      "[CV 5/7] END .....................n_neighbors=4;, score=0.771 total time=   0.0s\n",
      "[CV 6/7] END .....................n_neighbors=4;, score=0.832 total time=   0.0s\n",
      "[CV 7/7] END .....................n_neighbors=4;, score=0.771 total time=   0.0s\n",
      "[CV 1/7] END .....................n_neighbors=5;, score=0.832 total time=   0.0s\n",
      "[CV 2/7] END .....................n_neighbors=5;, score=0.511 total time=   0.0s\n",
      "[CV 3/7] END .....................n_neighbors=5;, score=0.878 total time=   0.0s\n",
      "[CV 4/7] END .....................n_neighbors=5;, score=0.543 total time=   0.0s\n",
      "[CV 5/7] END .....................n_neighbors=5;, score=0.720 total time=   0.0s\n",
      "[CV 6/7] END .....................n_neighbors=5;, score=0.720 total time=   0.0s\n",
      "[CV 7/7] END .....................n_neighbors=5;, score=0.771 total time=   0.0s\n",
      "[CV 1/7] END .....................n_neighbors=6;, score=0.625 total time=   0.0s\n",
      "[CV 2/7] END .....................n_neighbors=6;, score=0.607 total time=   0.0s\n",
      "[CV 3/7] END .....................n_neighbors=6;, score=0.818 total time=   0.0s\n",
      "[CV 4/7] END .....................n_neighbors=6;, score=0.608 total time=   0.0s\n",
      "[CV 5/7] END .....................n_neighbors=6;, score=0.771 total time=   0.0s\n",
      "[CV 6/7] END .....................n_neighbors=6;, score=0.832 total time=   0.0s\n",
      "[CV 7/7] END .....................n_neighbors=6;, score=0.832 total time=   0.0s\n",
      "[CV 1/7] END .....................n_neighbors=7;, score=0.832 total time=   0.0s\n",
      "[CV 2/7] END .....................n_neighbors=7;, score=0.511 total time=   0.0s\n",
      "[CV 3/7] END .....................n_neighbors=7;, score=0.937 total time=   0.0s\n",
      "[CV 4/7] END .....................n_neighbors=7;, score=0.667 total time=   0.0s\n",
      "[CV 5/7] END .....................n_neighbors=7;, score=0.720 total time=   0.0s\n",
      "[CV 6/7] END .....................n_neighbors=7;, score=0.720 total time=   0.0s\n",
      "[CV 7/7] END .....................n_neighbors=7;, score=0.832 total time=   0.0s\n",
      "[CV 1/7] END .....................n_neighbors=8;, score=0.771 total time=   0.0s\n",
      "[CV 2/7] END .....................n_neighbors=8;, score=0.561 total time=   0.0s\n",
      "[CV 3/7] END .....................n_neighbors=8;, score=0.878 total time=   0.0s\n",
      "[CV 4/7] END .....................n_neighbors=8;, score=0.667 total time=   0.0s\n",
      "[CV 5/7] END .....................n_neighbors=8;, score=0.771 total time=   0.0s\n",
      "[CV 6/7] END .....................n_neighbors=8;, score=0.720 total time=   0.0s\n",
      "[CV 7/7] END .....................n_neighbors=8;, score=0.778 total time=   0.0s\n",
      "[CV 1/7] END .....................n_neighbors=9;, score=0.832 total time=   0.0s\n",
      "[CV 2/7] END .....................n_neighbors=9;, score=0.561 total time=   0.0s\n",
      "[CV 3/7] END .....................n_neighbors=9;, score=0.937 total time=   0.0s\n",
      "[CV 4/7] END .....................n_neighbors=9;, score=0.667 total time=   0.0s\n",
      "[CV 5/7] END .....................n_neighbors=9;, score=0.720 total time=   0.0s\n",
      "[CV 6/7] END .....................n_neighbors=9;, score=0.720 total time=   0.0s\n",
      "[CV 7/7] END .....................n_neighbors=9;, score=0.832 total time=   0.0s\n",
      "[CV 1/7] END ....................n_neighbors=10;, score=0.704 total time=   0.0s\n",
      "[CV 2/7] END ....................n_neighbors=10;, score=0.561 total time=   0.0s\n",
      "[CV 3/7] END ....................n_neighbors=10;, score=0.878 total time=   0.0s\n",
      "[CV 4/7] END ....................n_neighbors=10;, score=0.667 total time=   0.0s\n",
      "[CV 5/7] END ....................n_neighbors=10;, score=0.720 total time=   0.0s\n",
      "[CV 6/7] END ....................n_neighbors=10;, score=0.720 total time=   0.0s\n",
      "[CV 7/7] END ....................n_neighbors=10;, score=0.778 total time=   0.0s\n",
      "[CV 1/7] END ....................n_neighbors=11;, score=0.889 total time=   0.0s\n",
      "[CV 2/7] END ....................n_neighbors=11;, score=0.511 total time=   0.0s\n",
      "[CV 3/7] END ....................n_neighbors=11;, score=0.878 total time=   0.0s\n",
      "[CV 4/7] END ....................n_neighbors=11;, score=0.667 total time=   0.0s\n",
      "[CV 5/7] END ....................n_neighbors=11;, score=0.832 total time=   0.0s\n",
      "[CV 6/7] END ....................n_neighbors=11;, score=0.771 total time=   0.0s\n",
      "[CV 7/7] END ....................n_neighbors=11;, score=0.771 total time=   0.0s\n",
      "[CV 1/7] END ....................n_neighbors=12;, score=0.704 total time=   0.0s\n",
      "[CV 2/7] END ....................n_neighbors=12;, score=0.561 total time=   0.0s\n",
      "[CV 3/7] END ....................n_neighbors=12;, score=0.878 total time=   0.0s\n",
      "[CV 4/7] END ....................n_neighbors=12;, score=0.667 total time=   0.0s\n",
      "[CV 5/7] END ....................n_neighbors=12;, score=0.778 total time=   0.0s\n",
      "[CV 6/7] END ....................n_neighbors=12;, score=0.771 total time=   0.0s\n",
      "[CV 7/7] END ....................n_neighbors=12;, score=0.771 total time=   0.0s\n",
      "[CV 1/7] END ....................n_neighbors=13;, score=0.771 total time=   0.0s\n",
      "[CV 2/7] END ....................n_neighbors=13;, score=0.511 total time=   0.0s\n",
      "[CV 3/7] END ....................n_neighbors=13;, score=0.878 total time=   0.0s\n",
      "[CV 4/7] END ....................n_neighbors=13;, score=0.667 total time=   0.0s\n",
      "[CV 5/7] END ....................n_neighbors=13;, score=0.832 total time=   0.0s\n",
      "[CV 6/7] END ....................n_neighbors=13;, score=0.771 total time=   0.0s\n",
      "[CV 7/7] END ....................n_neighbors=13;, score=0.771 total time=   0.0s\n",
      "[CV 1/7] END ....................n_neighbors=14;, score=0.704 total time=   0.0s\n",
      "[CV 2/7] END ....................n_neighbors=14;, score=0.561 total time=   0.0s\n",
      "[CV 3/7] END ....................n_neighbors=14;, score=0.878 total time=   0.0s\n",
      "[CV 4/7] END ....................n_neighbors=14;, score=0.667 total time=   0.0s\n",
      "[CV 5/7] END ....................n_neighbors=14;, score=0.832 total time=   0.0s\n",
      "[CV 6/7] END ....................n_neighbors=14;, score=0.720 total time=   0.0s\n",
      "[CV 7/7] END ....................n_neighbors=14;, score=0.720 total time=   0.0s\n",
      "KNeighborsClassifier(n_neighbors=11)\n",
      "0.7599242027813455\n"
     ]
    }
   ],
   "source": [
    "from sklearn.model_selection import GridSearchCV\n",
    "from sklearn.pipeline import Pipeline\n",
    "from sklearn.preprocessing import StandardScaler\n",
    "from sklearn.metrics import f1_score, make_scorer\n",
    "\n",
    "#pipeline=Pipeline([('scaler', StandardScaler()),\n",
    "                   #('model' , KNeighborsClassifier())])\n",
    "clf=GridSearchCV(KNeighborsClassifier(),param_grid, \n",
    "                 cv=7, \n",
    "                 scoring=make_scorer(f1_score, average='macro'),\n",
    "                 verbose=3.0)\n",
    "clf.fit(X_train,y_train)\n",
    "print(clf.best_estimator_)\n",
    "print(clf.best_score_)\n",
    "\n"
   ]
  },
  {
   "cell_type": "code",
   "execution_count": 53,
   "metadata": {
    "id": "JV2c-xbP7Ofj"
   },
   "outputs": [],
   "source": [
    "y_clf=clf.predict(X_test)"
   ]
  },
  {
   "cell_type": "code",
   "execution_count": 54,
   "metadata": {
    "colab": {
     "base_uri": "https://localhost:8080/"
    },
    "id": "k1PK7AQtXz2V",
    "outputId": "0801dd90-c437-41a6-aca4-3a5a0eb06394"
   },
   "outputs": [
    {
     "name": "stdout",
     "output_type": "stream",
     "text": [
      "Accuracy: 0.8666666666666667\n",
      "Precision:  0.8974358974358975\n",
      "Recall: 0.8518518518518517\n",
      "F1_micro: 0.8666666666666667\n",
      "F1_macro: 0.8441558441558442\n"
     ]
    }
   ],
   "source": [
    "from sklearn.metrics import accuracy_score, precision_score, recall_score, f1_score\n",
    "print(\"Accuracy: {}\".format(accuracy_score(y_test, y_clf)))\n",
    "print(\"Precision: \",str(precision_score(y_test, y_clf, average='macro')))\n",
    "print(\"Recall: \" + str(recall_score(y_test, y_clf, average='macro')))\n",
    "print(\"F1_micro: \" + str(f1_score(y_test, y_clf, average='micro')))\n",
    "print(\"F1_macro: \" + str(f1_score(y_test, y_clf, average='macro')))"
   ]
  },
  {
   "cell_type": "markdown",
   "metadata": {
    "id": "w8sKyPAOrDmt"
   },
   "source": [
    "-Nhận xét:\n",
    "  +Mô hình có tham số do GridSearchSV lựa chọn có phần kém hiệu quả hơn so với pháp lựa chọn tham số ở trên. Một phân là do, ở phương pháp thực hiện trên em thực hiện lựa chọn tham số dựa theo mô hình có điểm f1_macro cao nhất đánh giá trên tập test nên tham số sẽ tối ưu nhất cho tập test. \n",
    "\n",
    "  +GridSearchSV sẽ thực hiện thử hết các giá trị tham số và Cross Validation trên tập train nên việc lựa chọn tham số cho mô hình có thể được xem là tối ưu nhất \n",
    "\n",
    "  +Tuy nhiên, tập dataset trên chỉ có 150 điểm dữ liệu, đây là con số quá nhỏ để có thể huấn luyện mô hình và đánh giá chuẩn xác."
   ]
  },
  {
   "cell_type": "markdown",
   "metadata": {
    "id": "2zJtS1W-2Yem"
   },
   "source": [
    "Sử dụng GridSearchCV lựa chọn thông số cho mô hình Logistic Regression"
   ]
  },
  {
   "cell_type": "code",
   "execution_count": 55,
   "metadata": {
    "colab": {
     "base_uri": "https://localhost:8080/"
    },
    "id": "R4gqP66F2Y4q",
    "outputId": "512b3f73-f585-4062-ae8c-90bca4916e2c"
   },
   "outputs": [
    {
     "name": "stdout",
     "output_type": "stream",
     "text": [
      "Fitting 5 folds for each of 60 candidates, totalling 300 fits\n",
      "[CV 1/5] END C=0.2, l1_ratio=0, max_iter=2000, penalty=elasticnet, solver=saga;, score=0.833 total time=   0.1s\n",
      "[CV 2/5] END C=0.2, l1_ratio=0, max_iter=2000, penalty=elasticnet, solver=saga;, score=0.750 total time=   0.1s\n",
      "[CV 3/5] END C=0.2, l1_ratio=0, max_iter=2000, penalty=elasticnet, solver=saga;, score=0.833 total time=   0.0s\n",
      "[CV 4/5] END C=0.2, l1_ratio=0, max_iter=2000, penalty=elasticnet, solver=saga;, score=0.764 total time=   0.0s\n",
      "[CV 5/5] END C=0.2, l1_ratio=0, max_iter=2000, penalty=elasticnet, solver=saga;, score=0.838 total time=   0.0s\n",
      "[CV 1/5] END C=0.2, l1_ratio=0.2, max_iter=2000, penalty=elasticnet, solver=saga;, score=0.833 total time=   0.0s\n",
      "[CV 2/5] END C=0.2, l1_ratio=0.2, max_iter=2000, penalty=elasticnet, solver=saga;, score=0.750 total time=   0.0s\n",
      "[CV 3/5] END C=0.2, l1_ratio=0.2, max_iter=2000, penalty=elasticnet, solver=saga;, score=0.833 total time=   0.0s\n",
      "[CV 4/5] END C=0.2, l1_ratio=0.2, max_iter=2000, penalty=elasticnet, solver=saga;, score=0.725 total time=   0.1s\n",
      "[CV 5/5] END C=0.2, l1_ratio=0.2, max_iter=2000, penalty=elasticnet, solver=saga;, score=0.838 total time=   0.1s\n",
      "[CV 1/5] END C=0.2, l1_ratio=0.4, max_iter=2000, penalty=elasticnet, solver=saga;, score=0.833 total time=   0.0s\n",
      "[CV 2/5] END C=0.2, l1_ratio=0.4, max_iter=2000, penalty=elasticnet, solver=saga;, score=0.750 total time=   0.1s\n",
      "[CV 3/5] END C=0.2, l1_ratio=0.4, max_iter=2000, penalty=elasticnet, solver=saga;, score=0.833 total time=   0.0s\n",
      "[CV 4/5] END C=0.2, l1_ratio=0.4, max_iter=2000, penalty=elasticnet, solver=saga;, score=0.725 total time=   0.1s\n",
      "[CV 5/5] END C=0.2, l1_ratio=0.4, max_iter=2000, penalty=elasticnet, solver=saga;, score=0.838 total time=   0.1s\n",
      "[CV 1/5] END C=0.2, l1_ratio=0.6, max_iter=2000, penalty=elasticnet, solver=saga;, score=0.833 total time=   0.1s\n",
      "[CV 2/5] END C=0.2, l1_ratio=0.6, max_iter=2000, penalty=elasticnet, solver=saga;, score=0.750 total time=   0.1s\n",
      "[CV 3/5] END C=0.2, l1_ratio=0.6, max_iter=2000, penalty=elasticnet, solver=saga;, score=0.791 total time=   0.0s\n",
      "[CV 4/5] END C=0.2, l1_ratio=0.6, max_iter=2000, penalty=elasticnet, solver=saga;, score=0.804 total time=   0.0s\n",
      "[CV 5/5] END C=0.2, l1_ratio=0.6, max_iter=2000, penalty=elasticnet, solver=saga;, score=0.838 total time=   0.1s\n",
      "[CV 1/5] END C=0.2, l1_ratio=0.8, max_iter=2000, penalty=elasticnet, solver=saga;, score=0.833 total time=   0.1s\n",
      "[CV 2/5] END C=0.2, l1_ratio=0.8, max_iter=2000, penalty=elasticnet, solver=saga;, score=0.786 total time=   0.1s\n",
      "[CV 3/5] END C=0.2, l1_ratio=0.8, max_iter=2000, penalty=elasticnet, solver=saga;, score=0.791 total time=   0.0s\n",
      "[CV 4/5] END C=0.2, l1_ratio=0.8, max_iter=2000, penalty=elasticnet, solver=saga;, score=0.804 total time=   0.0s\n",
      "[CV 5/5] END C=0.2, l1_ratio=0.8, max_iter=2000, penalty=elasticnet, solver=saga;, score=0.838 total time=   0.0s\n",
      "[CV 1/5] END C=0.2, l1_ratio=1, max_iter=2000, penalty=elasticnet, solver=saga;, score=0.875 total time=   0.1s\n",
      "[CV 2/5] END C=0.2, l1_ratio=1, max_iter=2000, penalty=elasticnet, solver=saga;, score=0.786 total time=   0.1s\n",
      "[CV 3/5] END C=0.2, l1_ratio=1, max_iter=2000, penalty=elasticnet, solver=saga;, score=0.750 total time=   0.1s\n",
      "[CV 4/5] END C=0.2, l1_ratio=1, max_iter=2000, penalty=elasticnet, solver=saga;, score=0.804 total time=   0.0s\n",
      "[CV 5/5] END C=0.2, l1_ratio=1, max_iter=2000, penalty=elasticnet, solver=saga;, score=0.838 total time=   0.0s\n",
      "[CV 1/5] END C=0.4, l1_ratio=0, max_iter=2000, penalty=elasticnet, solver=saga;, score=0.833 total time=   0.0s\n",
      "[CV 2/5] END C=0.4, l1_ratio=0, max_iter=2000, penalty=elasticnet, solver=saga;, score=0.750 total time=   0.0s\n",
      "[CV 3/5] END C=0.4, l1_ratio=0, max_iter=2000, penalty=elasticnet, solver=saga;, score=0.791 total time=   0.0s\n",
      "[CV 4/5] END C=0.4, l1_ratio=0, max_iter=2000, penalty=elasticnet, solver=saga;, score=0.725 total time=   0.0s\n",
      "[CV 5/5] END C=0.4, l1_ratio=0, max_iter=2000, penalty=elasticnet, solver=saga;, score=0.838 total time=   0.1s\n",
      "[CV 1/5] END C=0.4, l1_ratio=0.2, max_iter=2000, penalty=elasticnet, solver=saga;, score=0.833 total time=   0.0s\n",
      "[CV 2/5] END C=0.4, l1_ratio=0.2, max_iter=2000, penalty=elasticnet, solver=saga;, score=0.750 total time=   0.1s\n",
      "[CV 3/5] END C=0.4, l1_ratio=0.2, max_iter=2000, penalty=elasticnet, solver=saga;, score=0.791 total time=   0.0s\n",
      "[CV 4/5] END C=0.4, l1_ratio=0.2, max_iter=2000, penalty=elasticnet, solver=saga;, score=0.725 total time=   0.1s\n",
      "[CV 5/5] END C=0.4, l1_ratio=0.2, max_iter=2000, penalty=elasticnet, solver=saga;, score=0.838 total time=   0.0s\n",
      "[CV 1/5] END C=0.4, l1_ratio=0.4, max_iter=2000, penalty=elasticnet, solver=saga;, score=0.833 total time=   0.1s\n",
      "[CV 2/5] END C=0.4, l1_ratio=0.4, max_iter=2000, penalty=elasticnet, solver=saga;, score=0.750 total time=   0.0s\n",
      "[CV 3/5] END C=0.4, l1_ratio=0.4, max_iter=2000, penalty=elasticnet, solver=saga;, score=0.791 total time=   0.0s\n",
      "[CV 4/5] END C=0.4, l1_ratio=0.4, max_iter=2000, penalty=elasticnet, solver=saga;, score=0.725 total time=   0.0s\n",
      "[CV 5/5] END C=0.4, l1_ratio=0.4, max_iter=2000, penalty=elasticnet, solver=saga;, score=0.838 total time=   0.1s\n",
      "[CV 1/5] END C=0.4, l1_ratio=0.6, max_iter=2000, penalty=elasticnet, solver=saga;, score=0.833 total time=   0.1s\n",
      "[CV 2/5] END C=0.4, l1_ratio=0.6, max_iter=2000, penalty=elasticnet, solver=saga;, score=0.791 total time=   0.2s\n",
      "[CV 3/5] END C=0.4, l1_ratio=0.6, max_iter=2000, penalty=elasticnet, solver=saga;, score=0.791 total time=   0.0s\n",
      "[CV 4/5] END C=0.4, l1_ratio=0.6, max_iter=2000, penalty=elasticnet, solver=saga;, score=0.725 total time=   0.1s\n",
      "[CV 5/5] END C=0.4, l1_ratio=0.6, max_iter=2000, penalty=elasticnet, solver=saga;, score=0.838 total time=   0.1s\n",
      "[CV 1/5] END C=0.4, l1_ratio=0.8, max_iter=2000, penalty=elasticnet, solver=saga;, score=0.833 total time=   0.1s\n",
      "[CV 2/5] END C=0.4, l1_ratio=0.8, max_iter=2000, penalty=elasticnet, solver=saga;, score=0.791 total time=   0.1s\n",
      "[CV 3/5] END C=0.4, l1_ratio=0.8, max_iter=2000, penalty=elasticnet, solver=saga;, score=0.791 total time=   0.1s\n",
      "[CV 4/5] END C=0.4, l1_ratio=0.8, max_iter=2000, penalty=elasticnet, solver=saga;, score=0.725 total time=   0.1s\n",
      "[CV 5/5] END C=0.4, l1_ratio=0.8, max_iter=2000, penalty=elasticnet, solver=saga;, score=0.838 total time=   0.1s\n",
      "[CV 1/5] END C=0.4, l1_ratio=1, max_iter=2000, penalty=elasticnet, solver=saga;, score=0.833 total time=   0.1s\n",
      "[CV 2/5] END C=0.4, l1_ratio=1, max_iter=2000, penalty=elasticnet, solver=saga;, score=0.791 total time=   0.1s\n",
      "[CV 3/5] END C=0.4, l1_ratio=1, max_iter=2000, penalty=elasticnet, solver=saga;, score=0.750 total time=   0.0s\n",
      "[CV 4/5] END C=0.4, l1_ratio=1, max_iter=2000, penalty=elasticnet, solver=saga;, score=0.804 total time=   0.1s\n",
      "[CV 5/5] END C=0.4, l1_ratio=1, max_iter=2000, penalty=elasticnet, solver=saga;, score=0.838 total time=   0.1s\n",
      "[CV 1/5] END C=0.6000000000000001, l1_ratio=0, max_iter=2000, penalty=elasticnet, solver=saga;, score=0.833 total time=   0.1s\n",
      "[CV 2/5] END C=0.6000000000000001, l1_ratio=0, max_iter=2000, penalty=elasticnet, solver=saga;, score=0.791 total time=   0.1s\n",
      "[CV 3/5] END C=0.6000000000000001, l1_ratio=0, max_iter=2000, penalty=elasticnet, solver=saga;, score=0.791 total time=   0.0s\n",
      "[CV 4/5] END C=0.6000000000000001, l1_ratio=0, max_iter=2000, penalty=elasticnet, solver=saga;, score=0.725 total time=   0.0s\n",
      "[CV 5/5] END C=0.6000000000000001, l1_ratio=0, max_iter=2000, penalty=elasticnet, solver=saga;, score=0.838 total time=   0.0s\n",
      "[CV 1/5] END C=0.6000000000000001, l1_ratio=0.2, max_iter=2000, penalty=elasticnet, solver=saga;, score=0.833 total time=   0.0s\n",
      "[CV 2/5] END C=0.6000000000000001, l1_ratio=0.2, max_iter=2000, penalty=elasticnet, solver=saga;, score=0.791 total time=   0.1s\n",
      "[CV 3/5] END C=0.6000000000000001, l1_ratio=0.2, max_iter=2000, penalty=elasticnet, solver=saga;, score=0.791 total time=   0.0s\n",
      "[CV 4/5] END C=0.6000000000000001, l1_ratio=0.2, max_iter=2000, penalty=elasticnet, solver=saga;, score=0.725 total time=   0.0s\n",
      "[CV 5/5] END C=0.6000000000000001, l1_ratio=0.2, max_iter=2000, penalty=elasticnet, solver=saga;, score=0.838 total time=   0.1s\n",
      "[CV 1/5] END C=0.6000000000000001, l1_ratio=0.4, max_iter=2000, penalty=elasticnet, solver=saga;, score=0.833 total time=   0.1s\n",
      "[CV 2/5] END C=0.6000000000000001, l1_ratio=0.4, max_iter=2000, penalty=elasticnet, solver=saga;, score=0.791 total time=   0.1s\n",
      "[CV 3/5] END C=0.6000000000000001, l1_ratio=0.4, max_iter=2000, penalty=elasticnet, solver=saga;, score=0.791 total time=   0.1s\n",
      "[CV 4/5] END C=0.6000000000000001, l1_ratio=0.4, max_iter=2000, penalty=elasticnet, solver=saga;, score=0.725 total time=   0.0s\n",
      "[CV 5/5] END C=0.6000000000000001, l1_ratio=0.4, max_iter=2000, penalty=elasticnet, solver=saga;, score=0.838 total time=   0.1s\n",
      "[CV 1/5] END C=0.6000000000000001, l1_ratio=0.6, max_iter=2000, penalty=elasticnet, solver=saga;, score=0.833 total time=   0.1s\n",
      "[CV 2/5] END C=0.6000000000000001, l1_ratio=0.6, max_iter=2000, penalty=elasticnet, solver=saga;, score=0.791 total time=   0.1s\n",
      "[CV 3/5] END C=0.6000000000000001, l1_ratio=0.6, max_iter=2000, penalty=elasticnet, solver=saga;, score=0.791 total time=   0.1s\n",
      "[CV 4/5] END C=0.6000000000000001, l1_ratio=0.6, max_iter=2000, penalty=elasticnet, solver=saga;, score=0.725 total time=   0.1s\n",
      "[CV 5/5] END C=0.6000000000000001, l1_ratio=0.6, max_iter=2000, penalty=elasticnet, solver=saga;, score=0.838 total time=   0.1s\n",
      "[CV 1/5] END C=0.6000000000000001, l1_ratio=0.8, max_iter=2000, penalty=elasticnet, solver=saga;, score=0.833 total time=   0.1s\n",
      "[CV 2/5] END C=0.6000000000000001, l1_ratio=0.8, max_iter=2000, penalty=elasticnet, solver=saga;, score=0.791 total time=   0.1s\n",
      "[CV 3/5] END C=0.6000000000000001, l1_ratio=0.8, max_iter=2000, penalty=elasticnet, solver=saga;, score=0.791 total time=   0.1s\n",
      "[CV 4/5] END C=0.6000000000000001, l1_ratio=0.8, max_iter=2000, penalty=elasticnet, solver=saga;, score=0.725 total time=   0.1s\n",
      "[CV 5/5] END C=0.6000000000000001, l1_ratio=0.8, max_iter=2000, penalty=elasticnet, solver=saga;, score=0.838 total time=   0.1s\n",
      "[CV 1/5] END C=0.6000000000000001, l1_ratio=1, max_iter=2000, penalty=elasticnet, solver=saga;, score=0.833 total time=   0.1s\n",
      "[CV 2/5] END C=0.6000000000000001, l1_ratio=1, max_iter=2000, penalty=elasticnet, solver=saga;, score=0.791 total time=   0.1s\n",
      "[CV 3/5] END C=0.6000000000000001, l1_ratio=1, max_iter=2000, penalty=elasticnet, solver=saga;, score=0.750 total time=   0.1s\n",
      "[CV 4/5] END C=0.6000000000000001, l1_ratio=1, max_iter=2000, penalty=elasticnet, solver=saga;, score=0.764 total time=   0.1s\n",
      "[CV 5/5] END C=0.6000000000000001, l1_ratio=1, max_iter=2000, penalty=elasticnet, solver=saga;, score=0.838 total time=   0.1s\n",
      "[CV 1/5] END C=0.8, l1_ratio=0, max_iter=2000, penalty=elasticnet, solver=saga;, score=0.833 total time=   0.0s\n",
      "[CV 2/5] END C=0.8, l1_ratio=0, max_iter=2000, penalty=elasticnet, solver=saga;, score=0.791 total time=   0.0s\n",
      "[CV 3/5] END C=0.8, l1_ratio=0, max_iter=2000, penalty=elasticnet, solver=saga;, score=0.791 total time=   0.0s\n",
      "[CV 4/5] END C=0.8, l1_ratio=0, max_iter=2000, penalty=elasticnet, solver=saga;, score=0.725 total time=   0.1s\n",
      "[CV 5/5] END C=0.8, l1_ratio=0, max_iter=2000, penalty=elasticnet, solver=saga;, score=0.838 total time=   0.0s\n",
      "[CV 1/5] END C=0.8, l1_ratio=0.2, max_iter=2000, penalty=elasticnet, solver=saga;, score=0.833 total time=   0.0s\n",
      "[CV 2/5] END C=0.8, l1_ratio=0.2, max_iter=2000, penalty=elasticnet, solver=saga;, score=0.791 total time=   0.1s\n",
      "[CV 3/5] END C=0.8, l1_ratio=0.2, max_iter=2000, penalty=elasticnet, solver=saga;, score=0.791 total time=   0.1s\n",
      "[CV 4/5] END C=0.8, l1_ratio=0.2, max_iter=2000, penalty=elasticnet, solver=saga;, score=0.725 total time=   0.1s\n",
      "[CV 5/5] END C=0.8, l1_ratio=0.2, max_iter=2000, penalty=elasticnet, solver=saga;, score=0.838 total time=   0.1s\n",
      "[CV 1/5] END C=0.8, l1_ratio=0.4, max_iter=2000, penalty=elasticnet, solver=saga;, score=0.833 total time=   0.1s\n",
      "[CV 2/5] END C=0.8, l1_ratio=0.4, max_iter=2000, penalty=elasticnet, solver=saga;, score=0.791 total time=   0.1s\n",
      "[CV 3/5] END C=0.8, l1_ratio=0.4, max_iter=2000, penalty=elasticnet, solver=saga;, score=0.791 total time=   0.0s\n",
      "[CV 4/5] END C=0.8, l1_ratio=0.4, max_iter=2000, penalty=elasticnet, solver=saga;, score=0.725 total time=   0.0s\n",
      "[CV 5/5] END C=0.8, l1_ratio=0.4, max_iter=2000, penalty=elasticnet, solver=saga;, score=0.838 total time=   0.1s\n",
      "[CV 1/5] END C=0.8, l1_ratio=0.6, max_iter=2000, penalty=elasticnet, solver=saga;, score=0.791 total time=   0.1s\n",
      "[CV 2/5] END C=0.8, l1_ratio=0.6, max_iter=2000, penalty=elasticnet, solver=saga;, score=0.791 total time=   0.1s\n",
      "[CV 3/5] END C=0.8, l1_ratio=0.6, max_iter=2000, penalty=elasticnet, solver=saga;, score=0.791 total time=   0.1s\n",
      "[CV 4/5] END C=0.8, l1_ratio=0.6, max_iter=2000, penalty=elasticnet, solver=saga;, score=0.725 total time=   0.1s\n",
      "[CV 5/5] END C=0.8, l1_ratio=0.6, max_iter=2000, penalty=elasticnet, solver=saga;, score=0.838 total time=   0.1s\n",
      "[CV 1/5] END C=0.8, l1_ratio=0.8, max_iter=2000, penalty=elasticnet, solver=saga;, score=0.833 total time=   0.1s\n",
      "[CV 2/5] END C=0.8, l1_ratio=0.8, max_iter=2000, penalty=elasticnet, solver=saga;, score=0.791 total time=   0.1s\n",
      "[CV 3/5] END C=0.8, l1_ratio=0.8, max_iter=2000, penalty=elasticnet, solver=saga;, score=0.791 total time=   0.1s\n",
      "[CV 4/5] END C=0.8, l1_ratio=0.8, max_iter=2000, penalty=elasticnet, solver=saga;, score=0.725 total time=   0.1s\n",
      "[CV 5/5] END C=0.8, l1_ratio=0.8, max_iter=2000, penalty=elasticnet, solver=saga;, score=0.838 total time=   0.0s\n",
      "[CV 1/5] END C=0.8, l1_ratio=1, max_iter=2000, penalty=elasticnet, solver=saga;, score=0.833 total time=   0.1s\n",
      "[CV 2/5] END C=0.8, l1_ratio=1, max_iter=2000, penalty=elasticnet, solver=saga;, score=0.791 total time=   0.1s\n",
      "[CV 3/5] END C=0.8, l1_ratio=1, max_iter=2000, penalty=elasticnet, solver=saga;, score=0.750 total time=   0.1s\n",
      "[CV 4/5] END C=0.8, l1_ratio=1, max_iter=2000, penalty=elasticnet, solver=saga;, score=0.725 total time=   0.1s\n",
      "[CV 5/5] END C=0.8, l1_ratio=1, max_iter=2000, penalty=elasticnet, solver=saga;, score=0.838 total time=   0.1s\n",
      "[CV 1/5] END C=1.0, l1_ratio=0, max_iter=2000, penalty=elasticnet, solver=saga;, score=0.833 total time=   0.0s\n",
      "[CV 2/5] END C=1.0, l1_ratio=0, max_iter=2000, penalty=elasticnet, solver=saga;, score=0.791 total time=   0.1s\n",
      "[CV 3/5] END C=1.0, l1_ratio=0, max_iter=2000, penalty=elasticnet, solver=saga;, score=0.791 total time=   0.0s\n",
      "[CV 4/5] END C=1.0, l1_ratio=0, max_iter=2000, penalty=elasticnet, solver=saga;, score=0.725 total time=   0.0s\n",
      "[CV 5/5] END C=1.0, l1_ratio=0, max_iter=2000, penalty=elasticnet, solver=saga;, score=0.838 total time=   0.0s\n",
      "[CV 1/5] END C=1.0, l1_ratio=0.2, max_iter=2000, penalty=elasticnet, solver=saga;, score=0.833 total time=   0.1s\n",
      "[CV 2/5] END C=1.0, l1_ratio=0.2, max_iter=2000, penalty=elasticnet, solver=saga;, score=0.791 total time=   0.1s\n",
      "[CV 3/5] END C=1.0, l1_ratio=0.2, max_iter=2000, penalty=elasticnet, solver=saga;, score=0.791 total time=   0.1s\n",
      "[CV 4/5] END C=1.0, l1_ratio=0.2, max_iter=2000, penalty=elasticnet, solver=saga;, score=0.725 total time=   0.1s\n",
      "[CV 5/5] END C=1.0, l1_ratio=0.2, max_iter=2000, penalty=elasticnet, solver=saga;, score=0.838 total time=   0.0s\n",
      "[CV 1/5] END C=1.0, l1_ratio=0.4, max_iter=2000, penalty=elasticnet, solver=saga;, score=0.833 total time=   0.1s\n",
      "[CV 2/5] END C=1.0, l1_ratio=0.4, max_iter=2000, penalty=elasticnet, solver=saga;, score=0.791 total time=   0.1s\n",
      "[CV 3/5] END C=1.0, l1_ratio=0.4, max_iter=2000, penalty=elasticnet, solver=saga;, score=0.791 total time=   0.0s\n",
      "[CV 4/5] END C=1.0, l1_ratio=0.4, max_iter=2000, penalty=elasticnet, solver=saga;, score=0.725 total time=   0.0s\n",
      "[CV 5/5] END C=1.0, l1_ratio=0.4, max_iter=2000, penalty=elasticnet, solver=saga;, score=0.838 total time=   0.0s\n",
      "[CV 1/5] END C=1.0, l1_ratio=0.6, max_iter=2000, penalty=elasticnet, solver=saga;, score=0.833 total time=   0.1s\n",
      "[CV 2/5] END C=1.0, l1_ratio=0.6, max_iter=2000, penalty=elasticnet, solver=saga;, score=0.791 total time=   0.1s\n",
      "[CV 3/5] END C=1.0, l1_ratio=0.6, max_iter=2000, penalty=elasticnet, solver=saga;, score=0.791 total time=   0.1s\n",
      "[CV 4/5] END C=1.0, l1_ratio=0.6, max_iter=2000, penalty=elasticnet, solver=saga;, score=0.725 total time=   0.1s\n",
      "[CV 5/5] END C=1.0, l1_ratio=0.6, max_iter=2000, penalty=elasticnet, solver=saga;, score=0.838 total time=   0.1s\n",
      "[CV 1/5] END C=1.0, l1_ratio=0.8, max_iter=2000, penalty=elasticnet, solver=saga;, score=0.833 total time=   0.1s\n",
      "[CV 2/5] END C=1.0, l1_ratio=0.8, max_iter=2000, penalty=elasticnet, solver=saga;, score=0.791 total time=   0.1s\n",
      "[CV 3/5] END C=1.0, l1_ratio=0.8, max_iter=2000, penalty=elasticnet, solver=saga;, score=0.791 total time=   0.1s\n",
      "[CV 4/5] END C=1.0, l1_ratio=0.8, max_iter=2000, penalty=elasticnet, solver=saga;, score=0.725 total time=   0.1s\n",
      "[CV 5/5] END C=1.0, l1_ratio=0.8, max_iter=2000, penalty=elasticnet, solver=saga;, score=0.838 total time=   0.1s\n",
      "[CV 1/5] END C=1.0, l1_ratio=1, max_iter=2000, penalty=elasticnet, solver=saga;, score=0.833 total time=   0.1s\n",
      "[CV 2/5] END C=1.0, l1_ratio=1, max_iter=2000, penalty=elasticnet, solver=saga;, score=0.791 total time=   0.1s\n",
      "[CV 3/5] END C=1.0, l1_ratio=1, max_iter=2000, penalty=elasticnet, solver=saga;, score=0.750 total time=   0.0s\n",
      "[CV 4/5] END C=1.0, l1_ratio=1, max_iter=2000, penalty=elasticnet, solver=saga;, score=0.725 total time=   0.1s\n",
      "[CV 5/5] END C=1.0, l1_ratio=1, max_iter=2000, penalty=elasticnet, solver=saga;, score=0.838 total time=   0.1s\n",
      "[CV 1/5] END C=1.2, l1_ratio=0, max_iter=2000, penalty=elasticnet, solver=saga;, score=0.833 total time=   0.1s\n",
      "[CV 2/5] END C=1.2, l1_ratio=0, max_iter=2000, penalty=elasticnet, solver=saga;, score=0.791 total time=   0.1s\n",
      "[CV 3/5] END C=1.2, l1_ratio=0, max_iter=2000, penalty=elasticnet, solver=saga;, score=0.791 total time=   0.1s\n",
      "[CV 4/5] END C=1.2, l1_ratio=0, max_iter=2000, penalty=elasticnet, solver=saga;, score=0.725 total time=   0.0s\n",
      "[CV 5/5] END C=1.2, l1_ratio=0, max_iter=2000, penalty=elasticnet, solver=saga;, score=0.838 total time=   0.1s\n",
      "[CV 1/5] END C=1.2, l1_ratio=0.2, max_iter=2000, penalty=elasticnet, solver=saga;, score=0.833 total time=   0.1s\n",
      "[CV 2/5] END C=1.2, l1_ratio=0.2, max_iter=2000, penalty=elasticnet, solver=saga;, score=0.791 total time=   0.2s\n",
      "[CV 3/5] END C=1.2, l1_ratio=0.2, max_iter=2000, penalty=elasticnet, solver=saga;, score=0.791 total time=   0.2s\n",
      "[CV 4/5] END C=1.2, l1_ratio=0.2, max_iter=2000, penalty=elasticnet, solver=saga;, score=0.725 total time=   0.1s\n",
      "[CV 5/5] END C=1.2, l1_ratio=0.2, max_iter=2000, penalty=elasticnet, solver=saga;, score=0.838 total time=   0.0s\n",
      "[CV 1/5] END C=1.2, l1_ratio=0.4, max_iter=2000, penalty=elasticnet, solver=saga;, score=0.833 total time=   0.0s\n",
      "[CV 2/5] END C=1.2, l1_ratio=0.4, max_iter=2000, penalty=elasticnet, solver=saga;, score=0.791 total time=   0.1s\n",
      "[CV 3/5] END C=1.2, l1_ratio=0.4, max_iter=2000, penalty=elasticnet, solver=saga;, score=0.791 total time=   0.1s\n",
      "[CV 4/5] END C=1.2, l1_ratio=0.4, max_iter=2000, penalty=elasticnet, solver=saga;, score=0.725 total time=   0.1s\n",
      "[CV 5/5] END C=1.2, l1_ratio=0.4, max_iter=2000, penalty=elasticnet, solver=saga;, score=0.838 total time=   0.1s\n",
      "[CV 1/5] END C=1.2, l1_ratio=0.6, max_iter=2000, penalty=elasticnet, solver=saga;, score=0.833 total time=   0.1s\n",
      "[CV 2/5] END C=1.2, l1_ratio=0.6, max_iter=2000, penalty=elasticnet, solver=saga;, score=0.791 total time=   0.2s\n",
      "[CV 3/5] END C=1.2, l1_ratio=0.6, max_iter=2000, penalty=elasticnet, solver=saga;, score=0.791 total time=   0.1s\n",
      "[CV 4/5] END C=1.2, l1_ratio=0.6, max_iter=2000, penalty=elasticnet, solver=saga;, score=0.725 total time=   0.1s\n",
      "[CV 5/5] END C=1.2, l1_ratio=0.6, max_iter=2000, penalty=elasticnet, solver=saga;, score=0.838 total time=   0.1s\n",
      "[CV 1/5] END C=1.2, l1_ratio=0.8, max_iter=2000, penalty=elasticnet, solver=saga;, score=0.833 total time=   0.1s\n",
      "[CV 2/5] END C=1.2, l1_ratio=0.8, max_iter=2000, penalty=elasticnet, solver=saga;, score=0.791 total time=   0.1s\n",
      "[CV 3/5] END C=1.2, l1_ratio=0.8, max_iter=2000, penalty=elasticnet, solver=saga;, score=0.791 total time=   0.1s\n",
      "[CV 4/5] END C=1.2, l1_ratio=0.8, max_iter=2000, penalty=elasticnet, solver=saga;, score=0.725 total time=   0.1s\n",
      "[CV 5/5] END C=1.2, l1_ratio=0.8, max_iter=2000, penalty=elasticnet, solver=saga;, score=0.838 total time=   0.1s\n",
      "[CV 1/5] END C=1.2, l1_ratio=1, max_iter=2000, penalty=elasticnet, solver=saga;, score=0.833 total time=   0.0s\n",
      "[CV 2/5] END C=1.2, l1_ratio=1, max_iter=2000, penalty=elasticnet, solver=saga;, score=0.791 total time=   0.1s\n",
      "[CV 3/5] END C=1.2, l1_ratio=1, max_iter=2000, penalty=elasticnet, solver=saga;, score=0.750 total time=   0.0s\n",
      "[CV 4/5] END C=1.2, l1_ratio=1, max_iter=2000, penalty=elasticnet, solver=saga;, score=0.725 total time=   0.1s\n",
      "[CV 5/5] END C=1.2, l1_ratio=1, max_iter=2000, penalty=elasticnet, solver=saga;, score=0.838 total time=   0.0s\n",
      "[CV 1/5] END C=1.4000000000000001, l1_ratio=0, max_iter=2000, penalty=elasticnet, solver=saga;, score=0.833 total time=   0.0s\n",
      "[CV 2/5] END C=1.4000000000000001, l1_ratio=0, max_iter=2000, penalty=elasticnet, solver=saga;, score=0.791 total time=   0.1s\n",
      "[CV 3/5] END C=1.4000000000000001, l1_ratio=0, max_iter=2000, penalty=elasticnet, solver=saga;, score=0.791 total time=   0.0s\n",
      "[CV 4/5] END C=1.4000000000000001, l1_ratio=0, max_iter=2000, penalty=elasticnet, solver=saga;, score=0.725 total time=   0.0s\n",
      "[CV 5/5] END C=1.4000000000000001, l1_ratio=0, max_iter=2000, penalty=elasticnet, solver=saga;, score=0.838 total time=   0.0s\n",
      "[CV 1/5] END C=1.4000000000000001, l1_ratio=0.2, max_iter=2000, penalty=elasticnet, solver=saga;, score=0.833 total time=   0.1s\n",
      "[CV 2/5] END C=1.4000000000000001, l1_ratio=0.2, max_iter=2000, penalty=elasticnet, solver=saga;, score=0.791 total time=   0.1s\n",
      "[CV 3/5] END C=1.4000000000000001, l1_ratio=0.2, max_iter=2000, penalty=elasticnet, solver=saga;, score=0.791 total time=   0.1s\n",
      "[CV 4/5] END C=1.4000000000000001, l1_ratio=0.2, max_iter=2000, penalty=elasticnet, solver=saga;, score=0.725 total time=   0.1s\n",
      "[CV 5/5] END C=1.4000000000000001, l1_ratio=0.2, max_iter=2000, penalty=elasticnet, solver=saga;, score=0.838 total time=   0.1s\n",
      "[CV 1/5] END C=1.4000000000000001, l1_ratio=0.4, max_iter=2000, penalty=elasticnet, solver=saga;, score=0.833 total time=   0.1s\n",
      "[CV 2/5] END C=1.4000000000000001, l1_ratio=0.4, max_iter=2000, penalty=elasticnet, solver=saga;, score=0.791 total time=   0.1s\n",
      "[CV 3/5] END C=1.4000000000000001, l1_ratio=0.4, max_iter=2000, penalty=elasticnet, solver=saga;, score=0.791 total time=   0.0s\n",
      "[CV 4/5] END C=1.4000000000000001, l1_ratio=0.4, max_iter=2000, penalty=elasticnet, solver=saga;, score=0.725 total time=   0.1s\n",
      "[CV 5/5] END C=1.4000000000000001, l1_ratio=0.4, max_iter=2000, penalty=elasticnet, solver=saga;, score=0.838 total time=   0.1s\n",
      "[CV 1/5] END C=1.4000000000000001, l1_ratio=0.6, max_iter=2000, penalty=elasticnet, solver=saga;, score=0.833 total time=   0.1s\n",
      "[CV 2/5] END C=1.4000000000000001, l1_ratio=0.6, max_iter=2000, penalty=elasticnet, solver=saga;, score=0.791 total time=   0.1s\n",
      "[CV 3/5] END C=1.4000000000000001, l1_ratio=0.6, max_iter=2000, penalty=elasticnet, solver=saga;, score=0.791 total time=   0.1s\n",
      "[CV 4/5] END C=1.4000000000000001, l1_ratio=0.6, max_iter=2000, penalty=elasticnet, solver=saga;, score=0.725 total time=   0.0s\n",
      "[CV 5/5] END C=1.4000000000000001, l1_ratio=0.6, max_iter=2000, penalty=elasticnet, solver=saga;, score=0.838 total time=   0.0s\n",
      "[CV 1/5] END C=1.4000000000000001, l1_ratio=0.8, max_iter=2000, penalty=elasticnet, solver=saga;, score=0.833 total time=   0.0s\n",
      "[CV 2/5] END C=1.4000000000000001, l1_ratio=0.8, max_iter=2000, penalty=elasticnet, solver=saga;, score=0.791 total time=   0.0s\n",
      "[CV 3/5] END C=1.4000000000000001, l1_ratio=0.8, max_iter=2000, penalty=elasticnet, solver=saga;, score=0.791 total time=   0.0s\n",
      "[CV 4/5] END C=1.4000000000000001, l1_ratio=0.8, max_iter=2000, penalty=elasticnet, solver=saga;, score=0.725 total time=   0.0s\n",
      "[CV 5/5] END C=1.4000000000000001, l1_ratio=0.8, max_iter=2000, penalty=elasticnet, solver=saga;, score=0.838 total time=   0.0s\n",
      "[CV 1/5] END C=1.4000000000000001, l1_ratio=1, max_iter=2000, penalty=elasticnet, solver=saga;, score=0.833 total time=   0.0s\n",
      "[CV 2/5] END C=1.4000000000000001, l1_ratio=1, max_iter=2000, penalty=elasticnet, solver=saga;, score=0.791 total time=   0.0s\n",
      "[CV 3/5] END C=1.4000000000000001, l1_ratio=1, max_iter=2000, penalty=elasticnet, solver=saga;, score=0.750 total time=   0.0s\n",
      "[CV 4/5] END C=1.4000000000000001, l1_ratio=1, max_iter=2000, penalty=elasticnet, solver=saga;, score=0.725 total time=   0.0s\n",
      "[CV 5/5] END C=1.4000000000000001, l1_ratio=1, max_iter=2000, penalty=elasticnet, solver=saga;, score=0.838 total time=   0.0s\n",
      "[CV 1/5] END C=1.6, l1_ratio=0, max_iter=2000, penalty=elasticnet, solver=saga;, score=0.833 total time=   0.0s\n",
      "[CV 2/5] END C=1.6, l1_ratio=0, max_iter=2000, penalty=elasticnet, solver=saga;, score=0.791 total time=   0.0s\n",
      "[CV 3/5] END C=1.6, l1_ratio=0, max_iter=2000, penalty=elasticnet, solver=saga;, score=0.791 total time=   0.0s\n",
      "[CV 4/5] END C=1.6, l1_ratio=0, max_iter=2000, penalty=elasticnet, solver=saga;, score=0.725 total time=   0.0s\n",
      "[CV 5/5] END C=1.6, l1_ratio=0, max_iter=2000, penalty=elasticnet, solver=saga;, score=0.838 total time=   0.0s\n",
      "[CV 1/5] END C=1.6, l1_ratio=0.2, max_iter=2000, penalty=elasticnet, solver=saga;, score=0.833 total time=   0.0s\n",
      "[CV 2/5] END C=1.6, l1_ratio=0.2, max_iter=2000, penalty=elasticnet, solver=saga;, score=0.791 total time=   0.0s\n",
      "[CV 3/5] END C=1.6, l1_ratio=0.2, max_iter=2000, penalty=elasticnet, solver=saga;, score=0.791 total time=   0.0s\n",
      "[CV 4/5] END C=1.6, l1_ratio=0.2, max_iter=2000, penalty=elasticnet, solver=saga;, score=0.725 total time=   0.0s\n",
      "[CV 5/5] END C=1.6, l1_ratio=0.2, max_iter=2000, penalty=elasticnet, solver=saga;, score=0.838 total time=   0.0s\n",
      "[CV 1/5] END C=1.6, l1_ratio=0.4, max_iter=2000, penalty=elasticnet, solver=saga;, score=0.833 total time=   0.0s\n",
      "[CV 2/5] END C=1.6, l1_ratio=0.4, max_iter=2000, penalty=elasticnet, solver=saga;, score=0.791 total time=   0.0s\n",
      "[CV 3/5] END C=1.6, l1_ratio=0.4, max_iter=2000, penalty=elasticnet, solver=saga;, score=0.791 total time=   0.0s\n",
      "[CV 4/5] END C=1.6, l1_ratio=0.4, max_iter=2000, penalty=elasticnet, solver=saga;, score=0.725 total time=   0.0s\n",
      "[CV 5/5] END C=1.6, l1_ratio=0.4, max_iter=2000, penalty=elasticnet, solver=saga;, score=0.838 total time=   0.0s\n",
      "[CV 1/5] END C=1.6, l1_ratio=0.6, max_iter=2000, penalty=elasticnet, solver=saga;, score=0.833 total time=   0.0s\n",
      "[CV 2/5] END C=1.6, l1_ratio=0.6, max_iter=2000, penalty=elasticnet, solver=saga;, score=0.791 total time=   0.0s\n",
      "[CV 3/5] END C=1.6, l1_ratio=0.6, max_iter=2000, penalty=elasticnet, solver=saga;, score=0.791 total time=   0.0s\n",
      "[CV 4/5] END C=1.6, l1_ratio=0.6, max_iter=2000, penalty=elasticnet, solver=saga;, score=0.725 total time=   0.0s\n",
      "[CV 5/5] END C=1.6, l1_ratio=0.6, max_iter=2000, penalty=elasticnet, solver=saga;, score=0.838 total time=   0.0s\n",
      "[CV 1/5] END C=1.6, l1_ratio=0.8, max_iter=2000, penalty=elasticnet, solver=saga;, score=0.833 total time=   0.0s\n",
      "[CV 2/5] END C=1.6, l1_ratio=0.8, max_iter=2000, penalty=elasticnet, solver=saga;, score=0.791 total time=   0.0s\n",
      "[CV 3/5] END C=1.6, l1_ratio=0.8, max_iter=2000, penalty=elasticnet, solver=saga;, score=0.791 total time=   0.0s\n",
      "[CV 4/5] END C=1.6, l1_ratio=0.8, max_iter=2000, penalty=elasticnet, solver=saga;, score=0.725 total time=   0.0s\n",
      "[CV 5/5] END C=1.6, l1_ratio=0.8, max_iter=2000, penalty=elasticnet, solver=saga;, score=0.838 total time=   0.0s\n",
      "[CV 1/5] END C=1.6, l1_ratio=1, max_iter=2000, penalty=elasticnet, solver=saga;, score=0.833 total time=   0.0s\n",
      "[CV 2/5] END C=1.6, l1_ratio=1, max_iter=2000, penalty=elasticnet, solver=saga;, score=0.791 total time=   0.0s\n",
      "[CV 3/5] END C=1.6, l1_ratio=1, max_iter=2000, penalty=elasticnet, solver=saga;, score=0.750 total time=   0.0s\n",
      "[CV 4/5] END C=1.6, l1_ratio=1, max_iter=2000, penalty=elasticnet, solver=saga;, score=0.725 total time=   0.0s\n",
      "[CV 5/5] END C=1.6, l1_ratio=1, max_iter=2000, penalty=elasticnet, solver=saga;, score=0.838 total time=   0.0s\n",
      "[CV 1/5] END C=1.8, l1_ratio=0, max_iter=2000, penalty=elasticnet, solver=saga;, score=0.833 total time=   0.0s\n",
      "[CV 2/5] END C=1.8, l1_ratio=0, max_iter=2000, penalty=elasticnet, solver=saga;, score=0.791 total time=   0.0s\n",
      "[CV 3/5] END C=1.8, l1_ratio=0, max_iter=2000, penalty=elasticnet, solver=saga;, score=0.791 total time=   0.0s\n",
      "[CV 4/5] END C=1.8, l1_ratio=0, max_iter=2000, penalty=elasticnet, solver=saga;, score=0.725 total time=   0.0s\n",
      "[CV 5/5] END C=1.8, l1_ratio=0, max_iter=2000, penalty=elasticnet, solver=saga;, score=0.838 total time=   0.0s\n",
      "[CV 1/5] END C=1.8, l1_ratio=0.2, max_iter=2000, penalty=elasticnet, solver=saga;, score=0.833 total time=   0.0s\n",
      "[CV 2/5] END C=1.8, l1_ratio=0.2, max_iter=2000, penalty=elasticnet, solver=saga;, score=0.791 total time=   0.0s\n",
      "[CV 3/5] END C=1.8, l1_ratio=0.2, max_iter=2000, penalty=elasticnet, solver=saga;, score=0.791 total time=   0.0s\n",
      "[CV 4/5] END C=1.8, l1_ratio=0.2, max_iter=2000, penalty=elasticnet, solver=saga;, score=0.725 total time=   0.0s\n",
      "[CV 5/5] END C=1.8, l1_ratio=0.2, max_iter=2000, penalty=elasticnet, solver=saga;, score=0.838 total time=   0.0s\n",
      "[CV 1/5] END C=1.8, l1_ratio=0.4, max_iter=2000, penalty=elasticnet, solver=saga;, score=0.833 total time=   0.0s\n",
      "[CV 2/5] END C=1.8, l1_ratio=0.4, max_iter=2000, penalty=elasticnet, solver=saga;, score=0.791 total time=   0.0s\n",
      "[CV 3/5] END C=1.8, l1_ratio=0.4, max_iter=2000, penalty=elasticnet, solver=saga;, score=0.791 total time=   0.0s\n",
      "[CV 4/5] END C=1.8, l1_ratio=0.4, max_iter=2000, penalty=elasticnet, solver=saga;, score=0.725 total time=   0.0s\n",
      "[CV 5/5] END C=1.8, l1_ratio=0.4, max_iter=2000, penalty=elasticnet, solver=saga;, score=0.838 total time=   0.0s\n",
      "[CV 1/5] END C=1.8, l1_ratio=0.6, max_iter=2000, penalty=elasticnet, solver=saga;, score=0.833 total time=   0.0s\n",
      "[CV 2/5] END C=1.8, l1_ratio=0.6, max_iter=2000, penalty=elasticnet, solver=saga;, score=0.791 total time=   0.0s\n",
      "[CV 3/5] END C=1.8, l1_ratio=0.6, max_iter=2000, penalty=elasticnet, solver=saga;, score=0.791 total time=   0.0s\n",
      "[CV 4/5] END C=1.8, l1_ratio=0.6, max_iter=2000, penalty=elasticnet, solver=saga;, score=0.725 total time=   0.0s\n",
      "[CV 5/5] END C=1.8, l1_ratio=0.6, max_iter=2000, penalty=elasticnet, solver=saga;, score=0.838 total time=   0.0s\n",
      "[CV 1/5] END C=1.8, l1_ratio=0.8, max_iter=2000, penalty=elasticnet, solver=saga;, score=0.833 total time=   0.0s\n",
      "[CV 2/5] END C=1.8, l1_ratio=0.8, max_iter=2000, penalty=elasticnet, solver=saga;, score=0.791 total time=   0.0s\n",
      "[CV 3/5] END C=1.8, l1_ratio=0.8, max_iter=2000, penalty=elasticnet, solver=saga;, score=0.791 total time=   0.0s\n",
      "[CV 4/5] END C=1.8, l1_ratio=0.8, max_iter=2000, penalty=elasticnet, solver=saga;, score=0.725 total time=   0.0s\n",
      "[CV 5/5] END C=1.8, l1_ratio=0.8, max_iter=2000, penalty=elasticnet, solver=saga;, score=0.838 total time=   0.0s\n",
      "[CV 1/5] END C=1.8, l1_ratio=1, max_iter=2000, penalty=elasticnet, solver=saga;, score=0.833 total time=   0.0s\n",
      "[CV 2/5] END C=1.8, l1_ratio=1, max_iter=2000, penalty=elasticnet, solver=saga;, score=0.791 total time=   0.0s\n",
      "[CV 3/5] END C=1.8, l1_ratio=1, max_iter=2000, penalty=elasticnet, solver=saga;, score=0.750 total time=   0.0s\n",
      "[CV 4/5] END C=1.8, l1_ratio=1, max_iter=2000, penalty=elasticnet, solver=saga;, score=0.725 total time=   0.0s\n",
      "[CV 5/5] END C=1.8, l1_ratio=1, max_iter=2000, penalty=elasticnet, solver=saga;, score=0.838 total time=   0.0s\n",
      "[CV 1/5] END C=2.0, l1_ratio=0, max_iter=2000, penalty=elasticnet, solver=saga;, score=0.833 total time=   0.0s\n",
      "[CV 2/5] END C=2.0, l1_ratio=0, max_iter=2000, penalty=elasticnet, solver=saga;, score=0.791 total time=   0.0s\n",
      "[CV 3/5] END C=2.0, l1_ratio=0, max_iter=2000, penalty=elasticnet, solver=saga;, score=0.791 total time=   0.0s\n",
      "[CV 4/5] END C=2.0, l1_ratio=0, max_iter=2000, penalty=elasticnet, solver=saga;, score=0.725 total time=   0.0s\n",
      "[CV 5/5] END C=2.0, l1_ratio=0, max_iter=2000, penalty=elasticnet, solver=saga;, score=0.838 total time=   0.0s\n",
      "[CV 1/5] END C=2.0, l1_ratio=0.2, max_iter=2000, penalty=elasticnet, solver=saga;, score=0.833 total time=   0.0s\n",
      "[CV 2/5] END C=2.0, l1_ratio=0.2, max_iter=2000, penalty=elasticnet, solver=saga;, score=0.791 total time=   0.0s\n",
      "[CV 3/5] END C=2.0, l1_ratio=0.2, max_iter=2000, penalty=elasticnet, solver=saga;, score=0.791 total time=   0.0s\n",
      "[CV 4/5] END C=2.0, l1_ratio=0.2, max_iter=2000, penalty=elasticnet, solver=saga;, score=0.725 total time=   0.0s\n",
      "[CV 5/5] END C=2.0, l1_ratio=0.2, max_iter=2000, penalty=elasticnet, solver=saga;, score=0.838 total time=   0.0s\n",
      "[CV 1/5] END C=2.0, l1_ratio=0.4, max_iter=2000, penalty=elasticnet, solver=saga;, score=0.833 total time=   0.0s\n",
      "[CV 2/5] END C=2.0, l1_ratio=0.4, max_iter=2000, penalty=elasticnet, solver=saga;, score=0.791 total time=   0.0s\n",
      "[CV 3/5] END C=2.0, l1_ratio=0.4, max_iter=2000, penalty=elasticnet, solver=saga;, score=0.791 total time=   0.0s\n",
      "[CV 4/5] END C=2.0, l1_ratio=0.4, max_iter=2000, penalty=elasticnet, solver=saga;, score=0.725 total time=   0.0s\n",
      "[CV 5/5] END C=2.0, l1_ratio=0.4, max_iter=2000, penalty=elasticnet, solver=saga;, score=0.838 total time=   0.0s\n",
      "[CV 1/5] END C=2.0, l1_ratio=0.6, max_iter=2000, penalty=elasticnet, solver=saga;, score=0.833 total time=   0.0s\n",
      "[CV 2/5] END C=2.0, l1_ratio=0.6, max_iter=2000, penalty=elasticnet, solver=saga;, score=0.791 total time=   0.0s\n",
      "[CV 3/5] END C=2.0, l1_ratio=0.6, max_iter=2000, penalty=elasticnet, solver=saga;, score=0.791 total time=   0.0s\n",
      "[CV 4/5] END C=2.0, l1_ratio=0.6, max_iter=2000, penalty=elasticnet, solver=saga;, score=0.725 total time=   0.0s\n",
      "[CV 5/5] END C=2.0, l1_ratio=0.6, max_iter=2000, penalty=elasticnet, solver=saga;, score=0.838 total time=   0.0s\n",
      "[CV 1/5] END C=2.0, l1_ratio=0.8, max_iter=2000, penalty=elasticnet, solver=saga;, score=0.833 total time=   0.0s\n",
      "[CV 2/5] END C=2.0, l1_ratio=0.8, max_iter=2000, penalty=elasticnet, solver=saga;, score=0.791 total time=   0.0s\n",
      "[CV 3/5] END C=2.0, l1_ratio=0.8, max_iter=2000, penalty=elasticnet, solver=saga;, score=0.750 total time=   0.0s\n",
      "[CV 4/5] END C=2.0, l1_ratio=0.8, max_iter=2000, penalty=elasticnet, solver=saga;, score=0.725 total time=   0.0s\n",
      "[CV 5/5] END C=2.0, l1_ratio=0.8, max_iter=2000, penalty=elasticnet, solver=saga;, score=0.838 total time=   0.0s\n",
      "[CV 1/5] END C=2.0, l1_ratio=1, max_iter=2000, penalty=elasticnet, solver=saga;, score=0.833 total time=   0.0s\n",
      "[CV 2/5] END C=2.0, l1_ratio=1, max_iter=2000, penalty=elasticnet, solver=saga;, score=0.791 total time=   0.0s\n",
      "[CV 3/5] END C=2.0, l1_ratio=1, max_iter=2000, penalty=elasticnet, solver=saga;, score=0.750 total time=   0.0s\n",
      "[CV 4/5] END C=2.0, l1_ratio=1, max_iter=2000, penalty=elasticnet, solver=saga;, score=0.725 total time=   0.0s\n",
      "[CV 5/5] END C=2.0, l1_ratio=1, max_iter=2000, penalty=elasticnet, solver=saga;, score=0.838 total time=   0.0s\n",
      "LogisticRegression(C=0.2, l1_ratio=1, max_iter=2000, penalty='elasticnet',\n",
      "                   solver='saga')\n",
      "0.8104948646125116\n"
     ]
    }
   ],
   "source": [
    "from sklearn.model_selection import GridSearchCV\n",
    "from sklearn.metrics import f1_score, make_scorer\n",
    "from sklearn.linear_model import LogisticRegression\n",
    "\n",
    "\n",
    "param_grid=dict(solver=['saga'],\n",
    "                penalty=['elasticnet'],\n",
    "                max_iter=[2000],\n",
    "                C=list(np.arange(0.2, 2.2, 0.2)),\n",
    "                l1_ratio=list([0,0.2,0.4,0.6,0.8,1]))\n",
    "\n",
    "clf=GridSearchCV(LogisticRegression(),param_grid, \n",
    "                 cv=5, \n",
    "                 scoring=make_scorer(f1_score, average='macro'),\n",
    "                 verbose=3.0)\n",
    "\n",
    "clf.fit(X_train,y_train)\n",
    "print(clf.best_estimator_)\n",
    "print(clf.best_score_)"
   ]
  },
  {
   "cell_type": "code",
   "execution_count": 56,
   "metadata": {
    "id": "1Hpa5xvkAcXW"
   },
   "outputs": [],
   "source": [
    "y_clf=clf.predict(X_test)"
   ]
  },
  {
   "cell_type": "code",
   "execution_count": 57,
   "metadata": {
    "colab": {
     "base_uri": "https://localhost:8080/"
    },
    "id": "M7dtRxAy3X6Q",
    "outputId": "c066ff67-7b8e-42cb-f0ee-aabd753b56ac"
   },
   "outputs": [
    {
     "name": "stdout",
     "output_type": "stream",
     "text": [
      "-- Logistic Regression + GridSearchCV Report --\n",
      "Accuracy: 0.9\n",
      "Precision:  0.9166666666666666\n",
      "Recall: 0.8888888888888888\n",
      "F1_micro: 0.9\n",
      "F1_macro: 0.8857142857142857\n"
     ]
    }
   ],
   "source": [
    "from sklearn.metrics import accuracy_score, precision_score, recall_score, f1_score\n",
    "\n",
    "print(\"-- Logistic Regression + GridSearchCV Report --\")\n",
    "print(\"Accuracy: {}\".format(accuracy_score(y_test, y_clf)))\n",
    "print(\"Precision: \",str(precision_score(y_test, y_clf, average='macro')))\n",
    "print(\"Recall: \" + str(recall_score(y_test, y_clf, average='macro')))\n",
    "print(\"F1_micro: \" + str(f1_score(y_test, y_clf, average='micro')))\n",
    "print(\"F1_macro: \" + str(f1_score(y_test, y_clf, average='macro')))"
   ]
  },
  {
   "cell_type": "markdown",
   "metadata": {
    "id": "TtvOdsGyAuTe"
   },
   "source": [
    "Điểm số giữa các than đo Accuracy, Precision, Recall, F1_macro cải thiện nhiều so với sử dụng mô hình Logistic Regression gốc. Thậm chí mô hình này còn tốt hơn cả mô hình KNeigbors Classifier được thử nghiệm ở trên."
   ]
  }
 ],
 "metadata": {
  "accelerator": "GPU",
  "colab": {
   "name": "20520344 .ipynb",
   "provenance": []
  },
  "kernelspec": {
   "display_name": "Python 3 (ipykernel)",
   "language": "python",
   "name": "python3"
  },
  "language_info": {
   "codemirror_mode": {
    "name": "ipython",
    "version": 3
   },
   "file_extension": ".py",
   "mimetype": "text/x-python",
   "name": "python",
   "nbconvert_exporter": "python",
   "pygments_lexer": "ipython3",
   "version": "3.9.7"
  }
 },
 "nbformat": 4,
 "nbformat_minor": 1
}
